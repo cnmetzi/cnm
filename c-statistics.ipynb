{
 "cells": [
  {
   "cell_type": "code",
   "execution_count": 1,
   "metadata": {},
   "outputs": [],
   "source": [
    "#import libraries\n",
    "import pandas as pd\n",
    "import numpy as np\n",
    "import matplotlib.pyplot as plt\n",
    "import seaborn as sns\n",
    "sns.set()\n",
    "from scipy import stats"
   ]
  },
  {
   "cell_type": "code",
   "execution_count": 2,
   "metadata": {},
   "outputs": [],
   "source": [
    "#Create arrays of values and build dataframe\n",
    "schools = np.array((range(1,9)))\n",
    "avg_grade = np.array ([7.4,7.9,4.1,8.1,6.2,7.1,7.4,6.7])*10\n",
    "df = pd.DataFrame(data=[schools,avg_grade]).T\n",
    "df.rename(index=str, columns={0: \"schools\", 1: \"grade\"},inplace=True)\n",
    "df = df.astype(int)"
   ]
  },
  {
   "cell_type": "code",
   "execution_count": null,
   "metadata": {},
   "outputs": [],
   "source": [
    "df.dtypes"
   ]
  },
  {
   "cell_type": "code",
   "execution_count": null,
   "metadata": {},
   "outputs": [],
   "source": [
    "df['schools'].astype('category')"
   ]
  },
  {
   "cell_type": "code",
   "execution_count": null,
   "metadata": {},
   "outputs": [],
   "source": [
    "df.head()"
   ]
  },
  {
   "cell_type": "code",
   "execution_count": 4,
   "metadata": {},
   "outputs": [
    {
     "data": {
      "image/png": "[encoded data removed]",
      "text/plain": [
       "<Figure size 432x288 with 1 Axes>"
      ]
     },
     "metadata": {
      "needs_background": "light"
     },
     "output_type": "display_data"
    },
    {
     "name": "stdout",
     "output_type": "stream",
     "text": [
      "Mode: ModeResult(mode=array([74]), count=array([2]))\n",
      "mean      68.625\n",
      "median    72.500\n",
      "Name: grade, dtype: float64\n",
      "Mean is lower than median, but still relatively close. An outlier is lowering the mean.\n",
      "Range: 40\n",
      "IQR: 9.5\n",
      "std     12.727221\n",
      "var    161.982143\n",
      "Name: grade, dtype: float64\n"
     ]
    },
    {
     "data": {
      "image/png": "[encoded data removed]",
      "text/plain": [
       "<Figure size 432x288 with 1 Axes>"
      ]
     },
     "metadata": {
      "needs_background": "light"
     },
     "output_type": "display_data"
    },
    {
     "name": "stdout",
     "output_type": "stream",
     "text": [
      "[ 0.45148245  0.87146612 -2.3204098   1.03945959 -0.55647837  0.19949224\n",
      "  0.45148245 -0.13649469]\n"
     ]
    }
   ],
   "source": [
    "#1. What does the distribution look like?\n",
    "df.hist(column='grade',grid=False,bins=range(0,100,10))\n",
    "plt.xticks(np.arange(0, 110, step=10))\n",
    "plt.xlabel('grade')\n",
    "plt.yticks(np.arange(0,5))\n",
    "plt.ylabel('count of schools')\n",
    "plt.show()\n",
    "#2. What is the center of the distribution?\n",
    "print('Mode:',stats.mode(df['grade']))\n",
    "print(df['grade'].agg([np.mean,np.median]))\n",
    "print(\"Mean is lower than median, but still relatively close. An outlier is lowering the mean.\")\n",
    "#3. What is the variability of the distribution?\n",
    "df_range=df['grade'].max()-df['grade'].min()\n",
    "print('Range:',df_range)\n",
    "print('IQR:',stats.iqr(df['grade']))\n",
    "print(df['grade'].agg([np.std,np.var]))\n",
    "#4. Boxplot\n",
    "df.boxplot(column='grade',showmeans=True)\n",
    "plt.show()\n",
    "#5. Z-Score of school 3\n",
    "print(stats.zscore(df['grade']))\n",
    "df['zscore']=stats.zscore(df['grade'])\n"
   ]
  },
  {
   "cell_type": "code",
   "execution_count": 5,
   "metadata": {},
   "outputs": [
    {
     "data": {
      "text/html": [
       "<div>\n",
       "<style scoped>\n",
       "    .dataframe tbody tr th:only-of-type {\n",
       "        vertical-align: middle;\n",
       "    }\n",
       "\n",
       "    .dataframe tbody tr th {\n",
       "        vertical-align: top;\n",
       "    }\n",
       "\n",
       "    .dataframe thead th {\n",
       "        text-align: right;\n",
       "    }\n",
       "</style>\n",
       "<table border=\"1\" class=\"dataframe\">\n",
       "  <thead>\n",
       "    <tr style=\"text-align: right;\">\n",
       "      <th></th>\n",
       "      <th>schools</th>\n",
       "      <th>grade</th>\n",
       "      <th>zscore</th>\n",
       "    </tr>\n",
       "  </thead>\n",
       "  <tbody>\n",
       "    <tr>\n",
       "      <th>0</th>\n",
       "      <td>1</td>\n",
       "      <td>74</td>\n",
       "      <td>0.451482</td>\n",
       "    </tr>\n",
       "    <tr>\n",
       "      <th>1</th>\n",
       "      <td>2</td>\n",
       "      <td>79</td>\n",
       "      <td>0.871466</td>\n",
       "    </tr>\n",
       "    <tr>\n",
       "      <th>2</th>\n",
       "      <td>3</td>\n",
       "      <td>41</td>\n",
       "      <td>-2.320410</td>\n",
       "    </tr>\n",
       "    <tr>\n",
       "      <th>3</th>\n",
       "      <td>4</td>\n",
       "      <td>81</td>\n",
       "      <td>1.039460</td>\n",
       "    </tr>\n",
       "    <tr>\n",
       "      <th>4</th>\n",
       "      <td>5</td>\n",
       "      <td>62</td>\n",
       "      <td>-0.556478</td>\n",
       "    </tr>\n",
       "    <tr>\n",
       "      <th>5</th>\n",
       "      <td>6</td>\n",
       "      <td>71</td>\n",
       "      <td>0.199492</td>\n",
       "    </tr>\n",
       "    <tr>\n",
       "      <th>6</th>\n",
       "      <td>7</td>\n",
       "      <td>74</td>\n",
       "      <td>0.451482</td>\n",
       "    </tr>\n",
       "    <tr>\n",
       "      <th>7</th>\n",
       "      <td>8</td>\n",
       "      <td>67</td>\n",
       "      <td>-0.136495</td>\n",
       "    </tr>\n",
       "  </tbody>\n",
       "</table>\n",
       "</div>"
      ],
      "text/plain": [
       "   schools  grade    zscore\n",
       "0        1     74  0.451482\n",
       "1        2     79  0.871466\n",
       "2        3     41 -2.320410\n",
       "3        4     81  1.039460\n",
       "4        5     62 -0.556478\n",
       "5        6     71  0.199492\n",
       "6        7     74  0.451482\n",
       "7        8     67 -0.136495"
      ]
     },
     "execution_count": 5,
     "metadata": {},
     "output_type": "execute_result"
    }
   ],
   "source": [
    "df"
   ]
  },
  {
   "cell_type": "code",
   "execution_count": 68,
   "metadata": {},
   "outputs": [
    {
     "ename": "TypeError",
     "evalue": "unsupported operand type(s) for -: 'function' and 'function'",
     "output_type": "error",
     "traceback": [
      "\u001b[1;31m---------------------------------------------------------------------------\u001b[0m",
      "\u001b[1;31mTypeError\u001b[0m                                 Traceback (most recent call last)",
      "\u001b[1;32m<ipython-input-68-d90967640a0f>\u001b[0m in \u001b[0;36m<module>\u001b[1;34m()\u001b[0m\n\u001b[1;32m----> 1\u001b[1;33m \u001b[0mrange\u001b[0m\u001b[1;33m=\u001b[0m\u001b[0mnp\u001b[0m\u001b[1;33m.\u001b[0m\u001b[0mmax\u001b[0m\u001b[1;33m-\u001b[0m\u001b[0mnp\u001b[0m\u001b[1;33m.\u001b[0m\u001b[0mmin\u001b[0m\u001b[1;33m\u001b[0m\u001b[0m\n\u001b[0m\u001b[0;32m      2\u001b[0m \u001b[0mdf\u001b[0m\u001b[1;33m[\u001b[0m\u001b[1;34m'grade'\u001b[0m\u001b[1;33m]\u001b[0m\u001b[1;33m.\u001b[0m\u001b[0magg\u001b[0m\u001b[1;33m(\u001b[0m\u001b[1;33m[\u001b[0m\u001b[0mnp\u001b[0m\u001b[1;33m.\u001b[0m\u001b[0mmedian\u001b[0m\u001b[1;33m,\u001b[0m\u001b[0mnp\u001b[0m\u001b[1;33m.\u001b[0m\u001b[0mmean\u001b[0m\u001b[1;33m,\u001b[0m\u001b[0mrange\u001b[0m\u001b[1;33m]\u001b[0m\u001b[1;33m)\u001b[0m\u001b[1;33m\u001b[0m\u001b[0m\n",
      "\u001b[1;31mTypeError\u001b[0m: unsupported operand type(s) for -: 'function' and 'function'"
     ]
    }
   ],
   "source": [
    "range=np.max-np.min\n",
    "df['grade'].agg([np.median,np.mean,range])"
   ]
  },
  {
   "cell_type": "markdown",
   "metadata": {},
   "source": [
    "calculations for numpy arrays\n",
    "1,2,5,5,6,6,6,9,10,10\n",
    "q5= np.array([1, 10, 6, 9, 2, 5, 6, 6, 5, 10])\n",
    "mode =6 stats.mode(q5) checked\n",
    "median = 6 np.median(q5) checked\n",
    "mean = 6 np.mean(q5) checked\n",
    "range = 9 np.max(q5)-np.min(q5) checked\n",
    "iqr = 3.25 stats.iqr(q5) OR np.quantile(q5,0.75)-np.quantile(q5,0.25) checked\n",
    "variance = 84/9= 9.3333333 np.var(q5,ddof=1) note ddof is used for sample vs population variance\n",
    "std = 3.054 np.std(q5,ddof=1) note ddof is used for sample vs population variance"
   ]
  },
  {
   "cell_type": "code",
   "execution_count": null,
   "metadata": {},
   "outputs": [],
   "source": []
  }
 ],
 "metadata": {
  "kernelspec": {
   "display_name": "Python 3",
   "language": "python",
   "name": "python3"
  },
  "language_info": {
   "codemirror_mode": {
    "name": "ipython",
    "version": 3
   },
   "file_extension": ".py",
   "mimetype": "text/x-python",
   "name": "python",
   "nbconvert_exporter": "python",
   "pygments_lexer": "ipython3",
   "version": "3.7.0"
  }
 },
 "nbformat": 4,
 "nbformat_minor": 2
}
