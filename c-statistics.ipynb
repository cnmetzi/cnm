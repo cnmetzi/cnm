{
 "cells": [
  {
   "cell_type": "code",
   "execution_count": 2,
   "metadata": {},
   "outputs": [
    {
     "data": {
      "text/html": [
       "<script type=\"text/javascript\">window.PlotlyConfig = {MathJaxConfig: 'local'};</script><script type=\"text/javascript\">if (window.MathJax) {MathJax.Hub.Config({SVG: {font: \"STIX-Web\"}});}</script><script>requirejs.config({paths: { 'plotly': ['https://cdn.plot.ly/plotly-latest.min']},});if(!window._Plotly) {require(['plotly'],function(plotly) {window._Plotly=plotly;});}</script>"
      ],
      "text/vnd.plotly.v1+html": [
       "<script type=\"text/javascript\">window.PlotlyConfig = {MathJaxConfig: 'local'};</script><script type=\"text/javascript\">if (window.MathJax) {MathJax.Hub.Config({SVG: {font: \"STIX-Web\"}});}</script><script>requirejs.config({paths: { 'plotly': ['https://cdn.plot.ly/plotly-latest.min']},});if(!window._Plotly) {require(['plotly'],function(plotly) {window._Plotly=plotly;});}</script>"
      ]
     },
     "metadata": {},
     "output_type": "display_data"
    }
   ],
   "source": [
    "#import libraries\n",
    "import pandas as pd\n",
    "import numpy as np\n",
    "import matplotlib.pyplot as plt\n",
    "import seaborn as sns\n",
    "sns.set()\n",
    "from scipy import stats\n",
    "import plotly.offline as py\n",
    "import plotly.graph_objs as go\n",
    "import statsmodels.api as sm\n",
    "py.init_notebook_mode(connected=True)\n",
    "#import cufflinks as cf\n",
    "#jupyter notebook --NotebookApp.iopub_data_rate_limit=1.0e10\n",
    "#py.offline.init_notebook_mode(connected=True)"
   ]
  },
  {
   "cell_type": "code",
   "execution_count": 2,
   "metadata": {},
   "outputs": [],
   "source": [
    "#Create arrays of values and build dataframe\n",
    "schools = np.array((range(1,9)))\n",
    "avg_grade = np.array ([7.4,7.9,4.1,8.1,6.2,7.1,7.4,6.7])*10\n",
    "df = pd.DataFrame(data=[schools,avg_grade]).T\n",
    "df.rename(index=str, columns={0: \"schools\", 1: \"grade\"},inplace=True)\n",
    "df = df.astype(int)"
   ]
  },
  {
   "cell_type": "code",
   "execution_count": 3,
   "metadata": {},
   "outputs": [
    {
     "data": {
      "text/plain": [
       "schools    int32\n",
       "grade      int32\n",
       "dtype: object"
      ]
     },
     "execution_count": 3,
     "metadata": {},
     "output_type": "execute_result"
    }
   ],
   "source": [
    "df.dtypes"
   ]
  },
  {
   "cell_type": "code",
   "execution_count": 4,
   "metadata": {},
   "outputs": [
    {
     "data": {
      "text/plain": [
       "0    1\n",
       "1    2\n",
       "2    3\n",
       "3    4\n",
       "4    5\n",
       "5    6\n",
       "6    7\n",
       "7    8\n",
       "Name: schools, dtype: category\n",
       "Categories (8, int64): [1, 2, 3, 4, 5, 6, 7, 8]"
      ]
     },
     "execution_count": 4,
     "metadata": {},
     "output_type": "execute_result"
    }
   ],
   "source": [
    "df['schools'].astype('category')"
   ]
  },
  {
   "cell_type": "code",
   "execution_count": 5,
   "metadata": {},
   "outputs": [
    {
     "data": {
      "text/html": [
       "<div>\n",
       "<style scoped>\n",
       "    .dataframe tbody tr th:only-of-type {\n",
       "        vertical-align: middle;\n",
       "    }\n",
       "\n",
       "    .dataframe tbody tr th {\n",
       "        vertical-align: top;\n",
       "    }\n",
       "\n",
       "    .dataframe thead th {\n",
       "        text-align: right;\n",
       "    }\n",
       "</style>\n",
       "<table border=\"1\" class=\"dataframe\">\n",
       "  <thead>\n",
       "    <tr style=\"text-align: right;\">\n",
       "      <th></th>\n",
       "      <th>schools</th>\n",
       "      <th>grade</th>\n",
       "    </tr>\n",
       "  </thead>\n",
       "  <tbody>\n",
       "    <tr>\n",
       "      <th>0</th>\n",
       "      <td>1</td>\n",
       "      <td>74</td>\n",
       "    </tr>\n",
       "    <tr>\n",
       "      <th>1</th>\n",
       "      <td>2</td>\n",
       "      <td>79</td>\n",
       "    </tr>\n",
       "    <tr>\n",
       "      <th>2</th>\n",
       "      <td>3</td>\n",
       "      <td>41</td>\n",
       "    </tr>\n",
       "    <tr>\n",
       "      <th>3</th>\n",
       "      <td>4</td>\n",
       "      <td>81</td>\n",
       "    </tr>\n",
       "    <tr>\n",
       "      <th>4</th>\n",
       "      <td>5</td>\n",
       "      <td>62</td>\n",
       "    </tr>\n",
       "  </tbody>\n",
       "</table>\n",
       "</div>"
      ],
      "text/plain": [
       "   schools  grade\n",
       "0        1     74\n",
       "1        2     79\n",
       "2        3     41\n",
       "3        4     81\n",
       "4        5     62"
      ]
     },
     "execution_count": 5,
     "metadata": {},
     "output_type": "execute_result"
    }
   ],
   "source": [
    "df.head()"
   ]
  },
  {
   "cell_type": "code",
   "execution_count": 6,
   "metadata": {
    "scrolled": true
   },
   "outputs": [
    {
     "data": {
      "image/png": "[encoded data removed]",
      "text/plain": [
       "<Figure size 432x288 with 1 Axes>"
      ]
     },
     "metadata": {
      "needs_background": "light"
     },
     "output_type": "display_data"
    },
    {
     "name": "stdout",
     "output_type": "stream",
     "text": [
      "Mode: ModeResult(mode=array([74]), count=array([2]))\n",
      "mean      68.625\n",
      "median    72.500\n",
      "Name: grade, dtype: float64\n",
      "Mean is lower than median, but still relatively close. An outlier is lowering the mean.\n",
      "Range: 40\n",
      "IQR: 9.5\n",
      "std     12.727221\n",
      "var    161.982143\n",
      "Name: grade, dtype: float64\n"
     ]
    },
    {
     "data": {
      "image/png": "[encoded data removed]",
      "text/plain": [
       "<Figure size 432x288 with 1 Axes>"
      ]
     },
     "metadata": {
      "needs_background": "light"
     },
     "output_type": "display_data"
    },
    {
     "name": "stdout",
     "output_type": "stream",
     "text": [
      "[ 0.45148245  0.87146612 -2.3204098   1.03945959 -0.55647837  0.19949224\n",
      "  0.45148245 -0.13649469]\n"
     ]
    }
   ],
   "source": [
    "#1. What does the distribution look like?\n",
    "df.hist(column='grade',grid=False,bins=range(0,100,10))\n",
    "plt.xticks(np.arange(0, 110, step=10))\n",
    "plt.xlabel('grade')\n",
    "plt.yticks(np.arange(0,5))\n",
    "plt.ylabel('count of schools')\n",
    "plt.show()\n",
    "#2. What is the center of the distribution?\n",
    "print('Mode:',stats.mode(df['grade']))\n",
    "print(df['grade'].agg([np.mean,np.median]))\n",
    "print(\"Mean is lower than median, but still relatively close. An outlier is lowering the mean.\")\n",
    "#3. What is the variability of the distribution?\n",
    "df_range=df['grade'].max()-df['grade'].min()\n",
    "print('Range:',df_range)\n",
    "print('IQR:',stats.iqr(df['grade']))\n",
    "print(df['grade'].agg([np.std,np.var]))\n",
    "#4. Boxplot\n",
    "df.boxplot(column='grade',showmeans=True)\n",
    "plt.show()\n",
    "#5. Z-Score of school 3\n",
    "print(stats.zscore(df['grade']))\n",
    "df['zscore']=stats.zscore(df['grade'])\n"
   ]
  },
  {
   "cell_type": "code",
   "execution_count": 7,
   "metadata": {},
   "outputs": [
    {
     "data": {
      "application/vnd.plotly.v1+json": {
       "config": {
        "linkText": "Export to plot.ly",
        "plotlyServerURL": "https://plot.ly",
        "showLink": false
       },
       "data": [
        {
         "type": "box",
         "uid": "ac26505e-fd30-4d8c-86d8-51ebbccd4a8b",
         "y": [
          74,
          79,
          41,
          81,
          62,
          71,
          74,
          67
         ]
        }
       ],
       "layout": {}
      },
      "text/html": [
       "<div id=\"1f875f27-d4ef-4a0c-9119-1f38a55d9111\" style=\"height: 525px; width: 100%;\" class=\"plotly-graph-div\"></div><script type=\"text/javascript\">require([\"plotly\"], function(Plotly) { window.PLOTLYENV=window.PLOTLYENV || {};window.PLOTLYENV.BASE_URL=\"https://plot.ly\";Plotly.newPlot(\"1f875f27-d4ef-4a0c-9119-1f38a55d9111\", [{\"y\": [74, 79, 41, 81, 62, 71, 74, 67], \"type\": \"box\", \"uid\": \"3c0df0b3-a8c0-412d-b3c7-d846f6702fd0\"}], {}, {\"showLink\": false, \"linkText\": \"Export to plot.ly\", \"plotlyServerURL\": \"https://plot.ly\"})});</script><script type=\"text/javascript\">window.addEventListener(\"resize\", function(){window._Plotly.Plots.resize(document.getElementById(\"1f875f27-d4ef-4a0c-9119-1f38a55d9111\"));});</script>"
      ],
      "text/vnd.plotly.v1+html": [
       "<div id=\"1f875f27-d4ef-4a0c-9119-1f38a55d9111\" style=\"height: 525px; width: 100%;\" class=\"plotly-graph-div\"></div><script type=\"text/javascript\">require([\"plotly\"], function(Plotly) { window.PLOTLYENV=window.PLOTLYENV || {};window.PLOTLYENV.BASE_URL=\"https://plot.ly\";Plotly.newPlot(\"1f875f27-d4ef-4a0c-9119-1f38a55d9111\", [{\"y\": [74, 79, 41, 81, 62, 71, 74, 67], \"type\": \"box\", \"uid\": \"3c0df0b3-a8c0-412d-b3c7-d846f6702fd0\"}], {}, {\"showLink\": false, \"linkText\": \"Export to plot.ly\", \"plotlyServerURL\": \"https://plot.ly\"})});</script><script type=\"text/javascript\">window.addEventListener(\"resize\", function(){window._Plotly.Plots.resize(document.getElementById(\"1f875f27-d4ef-4a0c-9119-1f38a55d9111\"));});</script>"
      ]
     },
     "metadata": {},
     "output_type": "display_data"
    },
    {
     "data": {
      "application/vnd.plotly.v1+json": {
       "config": {
        "linkText": "Export to plot.ly",
        "plotlyServerURL": "https://plot.ly",
        "showLink": false
       },
       "data": [
        {
         "nbinsx": 5,
         "type": "histogram",
         "uid": "28400c17-39c5-4aa9-a931-631559f3dc58",
         "x": [
          74,
          79,
          41,
          81,
          62,
          71,
          74,
          67
         ]
        }
       ],
       "layout": {}
      },
      "text/html": [
       "<div id=\"7bb6600a-2b86-41fc-a5ab-045d512f9047\" style=\"height: 525px; width: 100%;\" class=\"plotly-graph-div\"></div><script type=\"text/javascript\">require([\"plotly\"], function(Plotly) { window.PLOTLYENV=window.PLOTLYENV || {};window.PLOTLYENV.BASE_URL=\"https://plot.ly\";Plotly.newPlot(\"7bb6600a-2b86-41fc-a5ab-045d512f9047\", [{\"nbinsx\": 5, \"x\": [74, 79, 41, 81, 62, 71, 74, 67], \"type\": \"histogram\", \"uid\": \"914468a7-e5b5-4057-bbfe-9c9d400bbc6e\"}], {}, {\"showLink\": false, \"linkText\": \"Export to plot.ly\", \"plotlyServerURL\": \"https://plot.ly\"})});</script><script type=\"text/javascript\">window.addEventListener(\"resize\", function(){window._Plotly.Plots.resize(document.getElementById(\"7bb6600a-2b86-41fc-a5ab-045d512f9047\"));});</script>"
      ],
      "text/vnd.plotly.v1+html": [
       "<div id=\"7bb6600a-2b86-41fc-a5ab-045d512f9047\" style=\"height: 525px; width: 100%;\" class=\"plotly-graph-div\"></div><script type=\"text/javascript\">require([\"plotly\"], function(Plotly) { window.PLOTLYENV=window.PLOTLYENV || {};window.PLOTLYENV.BASE_URL=\"https://plot.ly\";Plotly.newPlot(\"7bb6600a-2b86-41fc-a5ab-045d512f9047\", [{\"nbinsx\": 5, \"x\": [74, 79, 41, 81, 62, 71, 74, 67], \"type\": \"histogram\", \"uid\": \"914468a7-e5b5-4057-bbfe-9c9d400bbc6e\"}], {}, {\"showLink\": false, \"linkText\": \"Export to plot.ly\", \"plotlyServerURL\": \"https://plot.ly\"})});</script><script type=\"text/javascript\">window.addEventListener(\"resize\", function(){window._Plotly.Plots.resize(document.getElementById(\"7bb6600a-2b86-41fc-a5ab-045d512f9047\"));});</script>"
      ]
     },
     "metadata": {},
     "output_type": "display_data"
    }
   ],
   "source": [
    "#boxplot with plotly\n",
    "py.iplot([go.Box(y=df['grade'])])\n",
    "py.iplot([go.Histogram(x=df['grade'],nbinsx=5)])"
   ]
  },
  {
   "cell_type": "code",
   "execution_count": 8,
   "metadata": {},
   "outputs": [
    {
     "data": {
      "text/html": [
       "<div>\n",
       "<style scoped>\n",
       "    .dataframe tbody tr th:only-of-type {\n",
       "        vertical-align: middle;\n",
       "    }\n",
       "\n",
       "    .dataframe tbody tr th {\n",
       "        vertical-align: top;\n",
       "    }\n",
       "\n",
       "    .dataframe thead th {\n",
       "        text-align: right;\n",
       "    }\n",
       "</style>\n",
       "<table border=\"1\" class=\"dataframe\">\n",
       "  <thead>\n",
       "    <tr style=\"text-align: right;\">\n",
       "      <th></th>\n",
       "      <th>schools</th>\n",
       "      <th>grade</th>\n",
       "      <th>zscore</th>\n",
       "    </tr>\n",
       "  </thead>\n",
       "  <tbody>\n",
       "    <tr>\n",
       "      <th>0</th>\n",
       "      <td>1</td>\n",
       "      <td>74</td>\n",
       "      <td>0.451482</td>\n",
       "    </tr>\n",
       "    <tr>\n",
       "      <th>1</th>\n",
       "      <td>2</td>\n",
       "      <td>79</td>\n",
       "      <td>0.871466</td>\n",
       "    </tr>\n",
       "    <tr>\n",
       "      <th>2</th>\n",
       "      <td>3</td>\n",
       "      <td>41</td>\n",
       "      <td>-2.320410</td>\n",
       "    </tr>\n",
       "    <tr>\n",
       "      <th>3</th>\n",
       "      <td>4</td>\n",
       "      <td>81</td>\n",
       "      <td>1.039460</td>\n",
       "    </tr>\n",
       "    <tr>\n",
       "      <th>4</th>\n",
       "      <td>5</td>\n",
       "      <td>62</td>\n",
       "      <td>-0.556478</td>\n",
       "    </tr>\n",
       "    <tr>\n",
       "      <th>5</th>\n",
       "      <td>6</td>\n",
       "      <td>71</td>\n",
       "      <td>0.199492</td>\n",
       "    </tr>\n",
       "    <tr>\n",
       "      <th>6</th>\n",
       "      <td>7</td>\n",
       "      <td>74</td>\n",
       "      <td>0.451482</td>\n",
       "    </tr>\n",
       "    <tr>\n",
       "      <th>7</th>\n",
       "      <td>8</td>\n",
       "      <td>67</td>\n",
       "      <td>-0.136495</td>\n",
       "    </tr>\n",
       "  </tbody>\n",
       "</table>\n",
       "</div>"
      ],
      "text/plain": [
       "   schools  grade    zscore\n",
       "0        1     74  0.451482\n",
       "1        2     79  0.871466\n",
       "2        3     41 -2.320410\n",
       "3        4     81  1.039460\n",
       "4        5     62 -0.556478\n",
       "5        6     71  0.199492\n",
       "6        7     74  0.451482\n",
       "7        8     67 -0.136495"
      ]
     },
     "execution_count": 8,
     "metadata": {},
     "output_type": "execute_result"
    }
   ],
   "source": [
    "df"
   ]
  },
  {
   "cell_type": "code",
   "execution_count": 9,
   "metadata": {},
   "outputs": [
    {
     "data": {
      "text/plain": [
       "count     8.000000\n",
       "mean     68.625000\n",
       "std      12.727221\n",
       "min      41.000000\n",
       "25%      65.750000\n",
       "50%      72.500000\n",
       "75%      75.250000\n",
       "max      81.000000\n",
       "Name: grade, dtype: float64"
      ]
     },
     "execution_count": 9,
     "metadata": {},
     "output_type": "execute_result"
    }
   ],
   "source": [
    "#Calculations for dataframe column\n",
    "#range=np.max-np.min\n",
    "df['grade'].agg([np.median,np.mean])\n",
    "df['grade'].quantile(.25)\n",
    "df['grade'].describe()"
   ]
  },
  {
   "cell_type": "markdown",
   "metadata": {},
   "source": [
    "calculations for numpy arrays\n",
    "1,2,5,5,6,6,6,9,10,10\n",
    "q5= np.array([1, 10, 6, 9, 2, 5, 6, 6, 5, 10])\n",
    "mode =6 stats.mode(q5) checked\n",
    "median = 6 np.median(q5) checked\n",
    "mean = 6 np.mean(q5) checked\n",
    "range = 9 np.max(q5)-np.min(q5) checked\n",
    "iqr = 3.25 stats.iqr(q5) OR np.quantile(q5,0.75)-np.quantile(q5,0.25) checked\n",
    "variance = 84/9= 9.3333333 np.var(q5,ddof=1) note ddof is used for sample vs population variance\n",
    "std = 3.054 np.std(q5,ddof=1) note ddof is used for sample vs population variance"
   ]
  },
  {
   "cell_type": "code",
   "execution_count": 10,
   "metadata": {},
   "outputs": [],
   "source": [
    "x = [50,100,200,300]\n",
    "y = [50,70,70,95]"
   ]
  },
  {
   "cell_type": "code",
   "execution_count": 11,
   "metadata": {},
   "outputs": [
    {
     "data": {
      "text/plain": [
       "(0.9279436074843683, 0.07205639251563169)"
      ]
     },
     "execution_count": 11,
     "metadata": {},
     "output_type": "execute_result"
    }
   ],
   "source": [
    "stats.pearsonr(x,y)"
   ]
  },
  {
   "cell_type": "code",
   "execution_count": 12,
   "metadata": {},
   "outputs": [],
   "source": [
    "rs = stats.pearsonr(x,y)[0]"
   ]
  },
  {
   "cell_type": "code",
   "execution_count": 13,
   "metadata": {},
   "outputs": [
    {
     "data": {
      "text/plain": [
       "110.86778913041725"
      ]
     },
     "execution_count": 13,
     "metadata": {},
     "output_type": "execute_result"
    }
   ],
   "source": [
    "np.mean(x)\n",
    "np.std(x,ddof=1)"
   ]
  },
  {
   "cell_type": "code",
   "execution_count": 5,
   "metadata": {},
   "outputs": [],
   "source": [
    "def compute_r (x,y) :\n",
    "    \"\"\"manually compute the pearson coeffient (r) from two arrays\"\"\"\n",
    "    z=0\n",
    "    zx=0\n",
    "    zy=0\n",
    "    for i,j in zip(x,y):\n",
    "            zx = (i-np.mean(x))/np.std(x,ddof=1)\n",
    "            zy = (j-np.mean(y))/np.std(y,ddof=1)\n",
    "            zxzy = zx*zy\n",
    "            z += zxzy\n",
    "            r = z/(len(x)-1)\n",
    "    print(r)\n",
    "    return(r)"
   ]
  },
  {
   "cell_type": "code",
   "execution_count": 15,
   "metadata": {},
   "outputs": [
    {
     "name": "stdout",
     "output_type": "stream",
     "text": [
      "0.9279436074843681\n"
     ]
    },
    {
     "data": {
      "text/plain": [
       "0.9279436074843681"
      ]
     },
     "execution_count": 15,
     "metadata": {},
     "output_type": "execute_result"
    }
   ],
   "source": [
    "compute_r(x,y)"
   ]
  },
  {
   "cell_type": "code",
   "execution_count": 33,
   "metadata": {},
   "outputs": [],
   "source": [
    "def compute_regres (x,y):\n",
    "    \"\"\"manually compute a and b for a regression line using OLSR\"\"\"\n",
    "    r = compute_r(x,y)\n",
    "    sx=np.std(x,ddof=1)\n",
    "    sy=np.std(y,ddof=1)\n",
    "    mx=np.mean(x)\n",
    "    my=np.mean(y)\n",
    "    b= r*(sy/sx)\n",
    "    a = my - (b*mx)\n",
    "    print(\"y_hat=\",a,\"+\",b,\"x\")\n",
    "    return (a,b)"
   ]
  },
  {
   "cell_type": "code",
   "execution_count": 16,
   "metadata": {},
   "outputs": [
    {
     "data": {
      "application/vnd.plotly.v1+json": {
       "config": {
        "linkText": "Export to plot.ly",
        "plotlyServerURL": "https://plot.ly",
        "showLink": false
       },
       "data": [
        {
         "mode": "markers",
         "type": "scatter",
         "uid": "1fa38b0f-a074-418d-999c-56f595d47a1f",
         "x": [
          50,
          100,
          200,
          300
         ],
         "y": [
          50,
          70,
          70,
          95
         ]
        }
       ],
       "layout": {}
      },
      "text/html": [
       "<div id=\"474fe141-da08-40d4-b90d-8833ddff9a89\" style=\"height: 525px; width: 100%;\" class=\"plotly-graph-div\"></div><script type=\"text/javascript\">require([\"plotly\"], function(Plotly) { window.PLOTLYENV=window.PLOTLYENV || {};window.PLOTLYENV.BASE_URL=\"https://plot.ly\";Plotly.newPlot(\"474fe141-da08-40d4-b90d-8833ddff9a89\", [{\"mode\": \"markers\", \"x\": [50, 100, 200, 300], \"y\": [50, 70, 70, 95], \"type\": \"scatter\", \"uid\": \"3c4070e6-81b1-48cf-b1f5-410871919669\"}], {}, {\"showLink\": false, \"linkText\": \"Export to plot.ly\", \"plotlyServerURL\": \"https://plot.ly\"})});</script><script type=\"text/javascript\">window.addEventListener(\"resize\", function(){window._Plotly.Plots.resize(document.getElementById(\"474fe141-da08-40d4-b90d-8833ddff9a89\"));});</script>"
      ],
      "text/vnd.plotly.v1+html": [
       "<div id=\"474fe141-da08-40d4-b90d-8833ddff9a89\" style=\"height: 525px; width: 100%;\" class=\"plotly-graph-div\"></div><script type=\"text/javascript\">require([\"plotly\"], function(Plotly) { window.PLOTLYENV=window.PLOTLYENV || {};window.PLOTLYENV.BASE_URL=\"https://plot.ly\";Plotly.newPlot(\"474fe141-da08-40d4-b90d-8833ddff9a89\", [{\"mode\": \"markers\", \"x\": [50, 100, 200, 300], \"y\": [50, 70, 70, 95], \"type\": \"scatter\", \"uid\": \"3c4070e6-81b1-48cf-b1f5-410871919669\"}], {}, {\"showLink\": false, \"linkText\": \"Export to plot.ly\", \"plotlyServerURL\": \"https://plot.ly\"})});</script><script type=\"text/javascript\">window.addEventListener(\"resize\", function(){window._Plotly.Plots.resize(document.getElementById(\"474fe141-da08-40d4-b90d-8833ddff9a89\"));});</script>"
      ]
     },
     "metadata": {},
     "output_type": "display_data"
    }
   ],
   "source": [
    "py.iplot([go.Scatter(x=x,y=y,mode='markers')])"
   ]
  },
  {
   "cell_type": "code",
   "execution_count": 17,
   "metadata": {},
   "outputs": [],
   "source": [
    "heights = [185,182,188,188]\n",
    "ratings = [47, 49.9,55.1,60.9]\n",
    "presidents = [\"Obama\", \"Bush Jr.\",\"Clinton\", \"Bush Sr.\"]\n",
    "ex = pd.DataFrame(data=[presidents,heights,ratings]).T\n",
    "ex.rename(columns={0:\"president\",1:\"height\",2:\"ratings\"},inplace=True)"
   ]
  },
  {
   "cell_type": "code",
   "execution_count": 18,
   "metadata": {},
   "outputs": [
    {
     "data": {
      "text/html": [
       "<div>\n",
       "<style scoped>\n",
       "    .dataframe tbody tr th:only-of-type {\n",
       "        vertical-align: middle;\n",
       "    }\n",
       "\n",
       "    .dataframe tbody tr th {\n",
       "        vertical-align: top;\n",
       "    }\n",
       "\n",
       "    .dataframe thead th {\n",
       "        text-align: right;\n",
       "    }\n",
       "</style>\n",
       "<table border=\"1\" class=\"dataframe\">\n",
       "  <thead>\n",
       "    <tr style=\"text-align: right;\">\n",
       "      <th></th>\n",
       "      <th>president</th>\n",
       "      <th>height</th>\n",
       "      <th>ratings</th>\n",
       "    </tr>\n",
       "  </thead>\n",
       "  <tbody>\n",
       "    <tr>\n",
       "      <th>0</th>\n",
       "      <td>Obama</td>\n",
       "      <td>185</td>\n",
       "      <td>47</td>\n",
       "    </tr>\n",
       "    <tr>\n",
       "      <th>1</th>\n",
       "      <td>Bush Jr.</td>\n",
       "      <td>182</td>\n",
       "      <td>49.9</td>\n",
       "    </tr>\n",
       "    <tr>\n",
       "      <th>2</th>\n",
       "      <td>Clinton</td>\n",
       "      <td>188</td>\n",
       "      <td>55.1</td>\n",
       "    </tr>\n",
       "    <tr>\n",
       "      <th>3</th>\n",
       "      <td>Bush Sr.</td>\n",
       "      <td>188</td>\n",
       "      <td>60.9</td>\n",
       "    </tr>\n",
       "  </tbody>\n",
       "</table>\n",
       "</div>"
      ],
      "text/plain": [
       "  president height ratings\n",
       "0     Obama    185      47\n",
       "1  Bush Jr.    182    49.9\n",
       "2   Clinton    188    55.1\n",
       "3  Bush Sr.    188    60.9"
      ]
     },
     "execution_count": 18,
     "metadata": {},
     "output_type": "execute_result"
    }
   ],
   "source": [
    "ex"
   ]
  },
  {
   "cell_type": "code",
   "execution_count": 26,
   "metadata": {},
   "outputs": [
    {
     "data": {
      "application/vnd.plotly.v1+json": {
       "config": {
        "linkText": "Export to plot.ly",
        "plotlyServerURL": "https://plot.ly",
        "showLink": false
       },
       "data": [
        {
         "mode": "markers",
         "text": [
          "Obama",
          "Bush Jr.",
          "Clinton",
          "Bush Sr."
         ],
         "type": "scatter",
         "uid": "8fd8c8fd-c764-4f45-89c4-3416c70b0446",
         "x": [
          185,
          182,
          188,
          188
         ],
         "y": [
          47,
          49.9,
          55.1,
          60.9
         ]
        }
       ],
       "layout": {}
      },
      "text/html": [
       "<div id=\"ac583251-b1fd-45d2-8873-08abe57880e7\" style=\"height: 525px; width: 100%;\" class=\"plotly-graph-div\"></div><script type=\"text/javascript\">require([\"plotly\"], function(Plotly) { window.PLOTLYENV=window.PLOTLYENV || {};window.PLOTLYENV.BASE_URL=\"https://plot.ly\";Plotly.newPlot(\"ac583251-b1fd-45d2-8873-08abe57880e7\", [{\"mode\": \"markers\", \"text\": [\"Obama\", \"Bush Jr.\", \"Clinton\", \"Bush Sr.\"], \"x\": [185, 182, 188, 188], \"y\": [47, 49.9, 55.1, 60.9], \"type\": \"scatter\", \"uid\": \"0ebbeeb2-9c21-4451-8dd8-67ea1ee2b7d8\"}], {}, {\"showLink\": false, \"linkText\": \"Export to plot.ly\", \"plotlyServerURL\": \"https://plot.ly\"})});</script><script type=\"text/javascript\">window.addEventListener(\"resize\", function(){window._Plotly.Plots.resize(document.getElementById(\"ac583251-b1fd-45d2-8873-08abe57880e7\"));});</script>"
      ],
      "text/vnd.plotly.v1+html": [
       "<div id=\"ac583251-b1fd-45d2-8873-08abe57880e7\" style=\"height: 525px; width: 100%;\" class=\"plotly-graph-div\"></div><script type=\"text/javascript\">require([\"plotly\"], function(Plotly) { window.PLOTLYENV=window.PLOTLYENV || {};window.PLOTLYENV.BASE_URL=\"https://plot.ly\";Plotly.newPlot(\"ac583251-b1fd-45d2-8873-08abe57880e7\", [{\"mode\": \"markers\", \"text\": [\"Obama\", \"Bush Jr.\", \"Clinton\", \"Bush Sr.\"], \"x\": [185, 182, 188, 188], \"y\": [47, 49.9, 55.1, 60.9], \"type\": \"scatter\", \"uid\": \"0ebbeeb2-9c21-4451-8dd8-67ea1ee2b7d8\"}], {}, {\"showLink\": false, \"linkText\": \"Export to plot.ly\", \"plotlyServerURL\": \"https://plot.ly\"})});</script><script type=\"text/javascript\">window.addEventListener(\"resize\", function(){window._Plotly.Plots.resize(document.getElementById(\"ac583251-b1fd-45d2-8873-08abe57880e7\"));});</script>"
      ]
     },
     "metadata": {},
     "output_type": "display_data"
    }
   ],
   "source": [
    "py.iplot([go.Scatter(x=heights,y=ratings,text=presidents,mode='markers')])"
   ]
  },
  {
   "cell_type": "code",
   "execution_count": 28,
   "metadata": {},
   "outputs": [
    {
     "data": {
      "text/plain": [
       "(0.7328772600875442, 0.26712273991245594)"
      ]
     },
     "execution_count": 28,
     "metadata": {},
     "output_type": "execute_result"
    }
   ],
   "source": [
    "stats.pearsonr(heights,ratings)"
   ]
  },
  {
   "cell_type": "code",
   "execution_count": 37,
   "metadata": {},
   "outputs": [
    {
     "name": "stdout",
     "output_type": "stream",
     "text": [
      "0.7328772600875443\n"
     ]
    },
    {
     "data": {
      "text/plain": [
       "0.7328772600875443"
      ]
     },
     "execution_count": 37,
     "metadata": {},
     "output_type": "execute_result"
    }
   ],
   "source": [
    "compute_r(heights,ratings)"
   ]
  },
  {
   "cell_type": "code",
   "execution_count": 34,
   "metadata": {},
   "outputs": [
    {
     "name": "stdout",
     "output_type": "stream",
     "text": [
      "0.7328772600875443\n",
      "y_hat= -236.6575757575758 + 1.5606060606060608 x\n"
     ]
    },
    {
     "data": {
      "text/plain": [
       "(-236.6575757575758, 1.5606060606060608)"
      ]
     },
     "execution_count": 34,
     "metadata": {},
     "output_type": "execute_result"
    }
   ],
   "source": [
    "compute_regres(heights,ratings)"
   ]
  },
  {
   "cell_type": "code",
   "execution_count": 36,
   "metadata": {},
   "outputs": [
    {
     "data": {
      "text/plain": [
       "0.5371090783534258"
      ]
     },
     "execution_count": 36,
     "metadata": {},
     "output_type": "execute_result"
    }
   ],
   "source": [
    "np.square(stats.pearsonr(heights,ratings)[0])"
   ]
  },
  {
   "cell_type": "code",
   "execution_count": 51,
   "metadata": {},
   "outputs": [],
   "source": [
    "model = sm.OLS(ratings,sm.add_constant(heights)).fit()"
   ]
  },
  {
   "cell_type": "code",
   "execution_count": 52,
   "metadata": {},
   "outputs": [
    {
     "name": "stdout",
     "output_type": "stream",
     "text": [
      "[-236.65757576    1.56060606]\n",
      "                            OLS Regression Results                            \n",
      "==============================================================================\n",
      "Dep. Variable:                      y   R-squared:                       0.537\n",
      "Model:                            OLS   Adj. R-squared:                  0.306\n",
      "Method:                 Least Squares   F-statistic:                     2.321\n",
      "Date:                Fri, 11 Jan 2019   Prob (F-statistic):              0.267\n",
      "Time:                        11:42:35   Log-Likelihood:                -10.804\n",
      "No. Observations:                   4   AIC:                             25.61\n",
      "Df Residuals:                       2   BIC:                             24.38\n",
      "Df Model:                           1                                         \n",
      "Covariance Type:            nonrobust                                         \n",
      "==============================================================================\n",
      "                 coef    std err          t      P>|t|      [0.025      0.975]\n",
      "------------------------------------------------------------------------------\n",
      "const       -236.6576    190.307     -1.244      0.340   -1055.481     582.166\n",
      "x1             1.5606      1.024      1.523      0.267      -2.847       5.968\n",
      "==============================================================================\n",
      "Omnibus:                          nan   Durbin-Watson:                   2.088\n",
      "Prob(Omnibus):                    nan   Jarque-Bera (JB):                0.422\n",
      "Skew:                          -0.241   Prob(JB):                        0.810\n",
      "Kurtosis:                       1.484   Cond. No.                     1.39e+04\n",
      "==============================================================================\n",
      "\n",
      "Warnings:\n",
      "[1] Standard Errors assume that the covariance matrix of the errors is correctly specified.\n",
      "[2] The condition number is large, 1.39e+04. This might indicate that there are\n",
      "strong multicollinearity or other numerical problems.\n"
     ]
    },
    {
     "name": "stderr",
     "output_type": "stream",
     "text": [
      "C:\\ProgramData\\Anaconda3\\lib\\site-packages\\statsmodels\\stats\\stattools.py:72: ValueWarning:\n",
      "\n",
      "omni_normtest is not valid with less than 8 observations; 4 samples were given.\n",
      "\n"
     ]
    }
   ],
   "source": [
    "print(model.params)\n",
    "print(model.summary())"
   ]
  },
  {
   "cell_type": "code",
   "execution_count": 75,
   "metadata": {},
   "outputs": [
    {
     "name": "stdout",
     "output_type": "stream",
     "text": [
      "Y_hat =-236.66+1.56x  R^2:0.54\n"
     ]
    }
   ],
   "source": [
    "slope, intercept, r_value, p_value, std_err =stats.linregress(heights,ratings)\n",
    "line = intercept + slope*np.array(heights)\n",
    "text = \"Y_hat =\"+str(round(intercept,2))+\"+\"+str(round(slope,2))+\"x\"+\"  R^2:\" +str(round((r_value**2),2))\n",
    "print(text)"
   ]
  },
  {
   "cell_type": "code",
   "execution_count": 73,
   "metadata": {},
   "outputs": [
    {
     "data": {
      "text/plain": [
       "LinregressResult(slope=1.5606060606060606, intercept=-236.65757575757576, rvalue=0.7328772600875442, pvalue=0.2671227399124557, stderr=1.024439643913705)"
      ]
     },
     "execution_count": 73,
     "metadata": {},
     "output_type": "execute_result"
    }
   ],
   "source": [
    "stats.linregress(heights,ratings)"
   ]
  },
  {
   "cell_type": "code",
   "execution_count": 76,
   "metadata": {},
   "outputs": [
    {
     "data": {
      "application/vnd.plotly.v1+json": {
       "config": {
        "linkText": "Export to plot.ly",
        "plotlyServerURL": "https://plot.ly",
        "showLink": false
       },
       "data": [
        {
         "mode": "markers",
         "name": "Data",
         "text": [
          "Obama",
          "Bush Jr.",
          "Clinton",
          "Bush Sr."
         ],
         "type": "scatter",
         "uid": "a11d0562-57d2-4b24-acda-7501254938c2",
         "x": [
          185,
          182,
          188,
          188
         ],
         "y": [
          47,
          49.9,
          55.1,
          60.9
         ]
        },
        {
         "mode": "lines",
         "name": "Fit",
         "text": "Y_hat =-236.66+1.56x  R^2:0.54",
         "type": "scatter",
         "uid": "c81a0b78-90ae-4a01-bd62-2d8359c732d9",
         "x": [
          185,
          182,
          188,
          188
         ],
         "y": [
          52.05454545454543,
          47.372727272727246,
          56.73636363636362,
          56.73636363636362
         ]
        }
       ],
       "layout": {}
      },
      "text/html": [
       "<div id=\"cfc01bb5-2f01-4afb-a445-4441f7e1334a\" style=\"height: 525px; width: 100%;\" class=\"plotly-graph-div\"></div><script type=\"text/javascript\">require([\"plotly\"], function(Plotly) { window.PLOTLYENV=window.PLOTLYENV || {};window.PLOTLYENV.BASE_URL=\"https://plot.ly\";Plotly.newPlot(\"cfc01bb5-2f01-4afb-a445-4441f7e1334a\", [{\"mode\": \"markers\", \"name\": \"Data\", \"text\": [\"Obama\", \"Bush Jr.\", \"Clinton\", \"Bush Sr.\"], \"x\": [185, 182, 188, 188], \"y\": [47, 49.9, 55.1, 60.9], \"type\": \"scatter\", \"uid\": \"7e605394-2413-412c-9bcd-cec061e50759\"}, {\"mode\": \"lines\", \"name\": \"Fit\", \"text\": \"Y_hat =-236.66+1.56x  R^2:0.54\", \"x\": [185, 182, 188, 188], \"y\": [52.05454545454543, 47.372727272727246, 56.73636363636362, 56.73636363636362], \"type\": \"scatter\", \"uid\": \"ee222ad0-05e6-49d7-b63a-c5f6357ed740\"}], {}, {\"showLink\": false, \"linkText\": \"Export to plot.ly\", \"plotlyServerURL\": \"https://plot.ly\"})});</script><script type=\"text/javascript\">window.addEventListener(\"resize\", function(){window._Plotly.Plots.resize(document.getElementById(\"cfc01bb5-2f01-4afb-a445-4441f7e1334a\"));});</script>"
      ],
      "text/vnd.plotly.v1+html": [
       "<div id=\"cfc01bb5-2f01-4afb-a445-4441f7e1334a\" style=\"height: 525px; width: 100%;\" class=\"plotly-graph-div\"></div><script type=\"text/javascript\">require([\"plotly\"], function(Plotly) { window.PLOTLYENV=window.PLOTLYENV || {};window.PLOTLYENV.BASE_URL=\"https://plot.ly\";Plotly.newPlot(\"cfc01bb5-2f01-4afb-a445-4441f7e1334a\", [{\"mode\": \"markers\", \"name\": \"Data\", \"text\": [\"Obama\", \"Bush Jr.\", \"Clinton\", \"Bush Sr.\"], \"x\": [185, 182, 188, 188], \"y\": [47, 49.9, 55.1, 60.9], \"type\": \"scatter\", \"uid\": \"7e605394-2413-412c-9bcd-cec061e50759\"}, {\"mode\": \"lines\", \"name\": \"Fit\", \"text\": \"Y_hat =-236.66+1.56x  R^2:0.54\", \"x\": [185, 182, 188, 188], \"y\": [52.05454545454543, 47.372727272727246, 56.73636363636362, 56.73636363636362], \"type\": \"scatter\", \"uid\": \"ee222ad0-05e6-49d7-b63a-c5f6357ed740\"}], {}, {\"showLink\": false, \"linkText\": \"Export to plot.ly\", \"plotlyServerURL\": \"https://plot.ly\"})});</script><script type=\"text/javascript\">window.addEventListener(\"resize\", function(){window._Plotly.Plots.resize(document.getElementById(\"cfc01bb5-2f01-4afb-a445-4441f7e1334a\"));});</script>"
      ]
     },
     "metadata": {},
     "output_type": "display_data"
    }
   ],
   "source": [
    "py.iplot([go.Scatter(x=heights,y=ratings,text=presidents,mode='markers',name='Data'),\n",
    "          go.Scatter(x=heights,y=(intercept + slope*np.array(heights)),mode='lines',text=text,name='Fit')])"
   ]
  },
  {
   "cell_type": "code",
   "execution_count": 77,
   "metadata": {},
   "outputs": [
    {
     "name": "stdout",
     "output_type": "stream",
     "text": [
      "-0.9644856443408243\n"
     ]
    },
    {
     "data": {
      "text/plain": [
       "-0.9644856443408243"
      ]
     },
     "execution_count": 77,
     "metadata": {},
     "output_type": "execute_result"
    }
   ],
   "source": [
    "q=[2, 4, 1.5, 2, 3]\n",
    "w=[7, 3, 8, 8, 6]\n",
    "compute_r(q,w)"
   ]
  },
  {
   "cell_type": "code",
   "execution_count": 78,
   "metadata": {},
   "outputs": [
    {
     "data": {
      "text/plain": [
       "0.6400000000000001"
      ]
     },
     "execution_count": 78,
     "metadata": {},
     "output_type": "execute_result"
    }
   ],
   "source": [
    ".8*.8"
   ]
  },
  {
   "cell_type": "code",
   "execution_count": 3,
   "metadata": {},
   "outputs": [
    {
     "name": "stdout",
     "output_type": "stream",
     "text": [
      "IQR: 3.75\n"
     ]
    }
   ],
   "source": [
    "x = [4,4,2,9,7,9,6,4,7,8]\n",
    "print('IQR:',stats.iqr(x))"
   ]
  },
  {
   "cell_type": "code",
   "execution_count": 6,
   "metadata": {},
   "outputs": [
    {
     "name": "stdout",
     "output_type": "stream",
     "text": [
      "0.9085468432313187\n"
     ]
    },
    {
     "data": {
      "text/plain": [
       "0.9085468432313187"
      ]
     },
     "execution_count": 6,
     "metadata": {},
     "output_type": "execute_result"
    }
   ],
   "source": [
    "x = [1,6,7]\n",
    "y=[23,48,41]\n",
    "compute_r(x,y)"
   ]
  },
  {
   "cell_type": "code",
   "execution_count": null,
   "metadata": {},
   "outputs": [],
   "source": []
  }
 ],
 "metadata": {
  "kernelspec": {
   "display_name": "Python 3",
   "language": "python",
   "name": "python3"
  },
  "language_info": {
   "codemirror_mode": {
    "name": "ipython",
    "version": 3
   },
   "file_extension": ".py",
   "mimetype": "text/x-python",
   "name": "python",
   "nbconvert_exporter": "python",
   "pygments_lexer": "ipython3",
   "version": "3.7.0"
  }
 },
 "nbformat": 4,
 "nbformat_minor": 2
}
