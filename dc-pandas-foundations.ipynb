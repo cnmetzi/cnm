{
 "cells": [
  {
   "cell_type": "code",
   "execution_count": 44,
   "metadata": {},
   "outputs": [],
   "source": [
    "#libraries\n",
    "import pandas as pd\n",
    "import numpy as np\n",
    "import matplotlib.pyplot as plt\n",
    "import seaborn as sns"
   ]
  },
  {
   "cell_type": "code",
   "execution_count": 25,
   "metadata": {},
   "outputs": [
    {
     "data": {
      "text/html": [
       "<div>\n",
       "<style scoped>\n",
       "    .dataframe tbody tr th:only-of-type {\n",
       "        vertical-align: middle;\n",
       "    }\n",
       "\n",
       "    .dataframe tbody tr th {\n",
       "        vertical-align: top;\n",
       "    }\n",
       "\n",
       "    .dataframe thead th {\n",
       "        text-align: right;\n",
       "    }\n",
       "</style>\n",
       "<table border=\"1\" class=\"dataframe\">\n",
       "  <thead>\n",
       "    <tr style=\"text-align: right;\">\n",
       "      <th></th>\n",
       "      <th>CountryName</th>\n",
       "      <th>CountryCode</th>\n",
       "      <th>Year</th>\n",
       "      <th>Total Population</th>\n",
       "      <th>Urban population (% of total)</th>\n",
       "    </tr>\n",
       "  </thead>\n",
       "  <tbody>\n",
       "    <tr>\n",
       "      <th>0</th>\n",
       "      <td>Arab World</td>\n",
       "      <td>ARB</td>\n",
       "      <td>1960</td>\n",
       "      <td>92495902.0</td>\n",
       "      <td>31.285384</td>\n",
       "    </tr>\n",
       "    <tr>\n",
       "      <th>1</th>\n",
       "      <td>Caribbean small states</td>\n",
       "      <td>CSS</td>\n",
       "      <td>1960</td>\n",
       "      <td>4190810.0</td>\n",
       "      <td>31.597490</td>\n",
       "    </tr>\n",
       "    <tr>\n",
       "      <th>2</th>\n",
       "      <td>Central Europe and the Baltics</td>\n",
       "      <td>CEB</td>\n",
       "      <td>1960</td>\n",
       "      <td>91401583.0</td>\n",
       "      <td>44.507921</td>\n",
       "    </tr>\n",
       "  </tbody>\n",
       "</table>\n",
       "</div>"
      ],
      "text/plain": [
       "                      CountryName CountryCode  Year  Total Population  \\\n",
       "0                      Arab World         ARB  1960        92495902.0   \n",
       "1          Caribbean small states         CSS  1960         4190810.0   \n",
       "2  Central Europe and the Baltics         CEB  1960        91401583.0   \n",
       "\n",
       "   Urban population (% of total)  \n",
       "0                      31.285384  \n",
       "1                      31.597490  \n",
       "2                      44.507921  "
      ]
     },
     "execution_count": 25,
     "metadata": {},
     "output_type": "execute_result"
    }
   ],
   "source": [
    "#read in dataframe\n",
    "df = pd.read_csv('./datasets/world_ind_pop_data.csv')\n",
    "df.head(3)\n",
    "#df = pd.read_csv('./datasets/world_ind_pop_data.csv',header=None,names=['date','sunspots','definite'],na_values='-1')\n",
    "#df = pd.read_csv('./datasets/world_ind_pop_data.csv',header=None,na_values={'sunspots':['-1']})\n",
    "#df = pd.read_csv('./datasets/world_ind_pop_data.csv',parse_dates=[[0,1,2]],comment='#'})\n",
    "#df = pd.read_csv('./datasets/world_ind_pop_data.csv',index_col='date',parse_dates=True)"
   ]
  },
  {
   "cell_type": "code",
   "execution_count": 10,
   "metadata": {},
   "outputs": [
    {
     "data": {
      "text/html": [
       "<div>\n",
       "<style scoped>\n",
       "    .dataframe tbody tr th:only-of-type {\n",
       "        vertical-align: middle;\n",
       "    }\n",
       "\n",
       "    .dataframe tbody tr th {\n",
       "        vertical-align: top;\n",
       "    }\n",
       "\n",
       "    .dataframe thead th {\n",
       "        text-align: right;\n",
       "    }\n",
       "</style>\n",
       "<table border=\"1\" class=\"dataframe\">\n",
       "  <thead>\n",
       "    <tr style=\"text-align: right;\">\n",
       "      <th></th>\n",
       "      <th>weekday</th>\n",
       "      <th>city</th>\n",
       "      <th>visitors</th>\n",
       "    </tr>\n",
       "  </thead>\n",
       "  <tbody>\n",
       "    <tr>\n",
       "      <th>0</th>\n",
       "      <td>Sun</td>\n",
       "      <td>Austin</td>\n",
       "      <td>139</td>\n",
       "    </tr>\n",
       "    <tr>\n",
       "      <th>1</th>\n",
       "      <td>Sun</td>\n",
       "      <td>Dallas</td>\n",
       "      <td>237</td>\n",
       "    </tr>\n",
       "    <tr>\n",
       "      <th>2</th>\n",
       "      <td>Mon</td>\n",
       "      <td>Austin</td>\n",
       "      <td>326</td>\n",
       "    </tr>\n",
       "  </tbody>\n",
       "</table>\n",
       "</div>"
      ],
      "text/plain": [
       "  weekday    city  visitors\n",
       "0     Sun  Austin       139\n",
       "1     Sun  Dallas       237\n",
       "2     Mon  Austin       326"
      ]
     },
     "execution_count": 10,
     "metadata": {},
     "output_type": "execute_result"
    }
   ],
   "source": [
    "#create dataframe from dictionary\n",
    "data = {'weekday':['Sun','Sun','Mon'],'city':['Austin','Dallas','Austin'],'visitors':[139,237,326]}\n",
    "df2=pd.DataFrame(data)\n",
    "df2.head()"
   ]
  },
  {
   "cell_type": "code",
   "execution_count": 13,
   "metadata": {},
   "outputs": [
    {
     "data": {
      "text/html": [
       "<div>\n",
       "<style scoped>\n",
       "    .dataframe tbody tr th:only-of-type {\n",
       "        vertical-align: middle;\n",
       "    }\n",
       "\n",
       "    .dataframe tbody tr th {\n",
       "        vertical-align: top;\n",
       "    }\n",
       "\n",
       "    .dataframe thead th {\n",
       "        text-align: right;\n",
       "    }\n",
       "</style>\n",
       "<table border=\"1\" class=\"dataframe\">\n",
       "  <thead>\n",
       "    <tr style=\"text-align: right;\">\n",
       "      <th></th>\n",
       "      <th>weekday</th>\n",
       "      <th>city</th>\n",
       "      <th>visitors</th>\n",
       "    </tr>\n",
       "  </thead>\n",
       "  <tbody>\n",
       "    <tr>\n",
       "      <th>0</th>\n",
       "      <td>Sun</td>\n",
       "      <td>Austin</td>\n",
       "      <td>139</td>\n",
       "    </tr>\n",
       "    <tr>\n",
       "      <th>1</th>\n",
       "      <td>Sun</td>\n",
       "      <td>Dallas</td>\n",
       "      <td>237</td>\n",
       "    </tr>\n",
       "    <tr>\n",
       "      <th>2</th>\n",
       "      <td>Mon</td>\n",
       "      <td>Austin</td>\n",
       "      <td>326</td>\n",
       "    </tr>\n",
       "  </tbody>\n",
       "</table>\n",
       "</div>"
      ],
      "text/plain": [
       "  weekday    city  visitors\n",
       "0     Sun  Austin       139\n",
       "1     Sun  Dallas       237\n",
       "2     Mon  Austin       326"
      ]
     },
     "execution_count": 13,
     "metadata": {},
     "output_type": "execute_result"
    }
   ],
   "source": [
    "#create datafram from lists\n",
    "weekday=['Sun','Sun','Mon']\n",
    "city=['Austin','Dallas','Austin']\n",
    "visitors=[139,237,326]\n",
    "list_labels=['weekday','city','visitors']\n",
    "list_cols=[weekday,city,visitors]\n",
    "zipped = list(zip(list_labels,list_cols))\n",
    "data = dict(zipped)\n",
    "df3=pd.DataFrame(data)\n",
    "df3.head()"
   ]
  },
  {
   "cell_type": "code",
   "execution_count": 17,
   "metadata": {},
   "outputs": [
    {
     "data": {
      "text/html": [
       "<div>\n",
       "<style scoped>\n",
       "    .dataframe tbody tr th:only-of-type {\n",
       "        vertical-align: middle;\n",
       "    }\n",
       "\n",
       "    .dataframe tbody tr th {\n",
       "        vertical-align: top;\n",
       "    }\n",
       "\n",
       "    .dataframe thead th {\n",
       "        text-align: right;\n",
       "    }\n",
       "</style>\n",
       "<table border=\"1\" class=\"dataframe\">\n",
       "  <thead>\n",
       "    <tr style=\"text-align: right;\">\n",
       "      <th></th>\n",
       "      <th>heights</th>\n",
       "      <th>sex</th>\n",
       "    </tr>\n",
       "  </thead>\n",
       "  <tbody>\n",
       "    <tr>\n",
       "      <th>0</th>\n",
       "      <td>59</td>\n",
       "      <td>M</td>\n",
       "    </tr>\n",
       "    <tr>\n",
       "      <th>1</th>\n",
       "      <td>65</td>\n",
       "      <td>M</td>\n",
       "    </tr>\n",
       "    <tr>\n",
       "      <th>2</th>\n",
       "      <td>62</td>\n",
       "      <td>M</td>\n",
       "    </tr>\n",
       "    <tr>\n",
       "      <th>3</th>\n",
       "      <td>65</td>\n",
       "      <td>M</td>\n",
       "    </tr>\n",
       "  </tbody>\n",
       "</table>\n",
       "</div>"
      ],
      "text/plain": [
       "   heights sex\n",
       "0       59   M\n",
       "1       65   M\n",
       "2       62   M\n",
       "3       65   M"
      ]
     },
     "execution_count": 17,
     "metadata": {},
     "output_type": "execute_result"
    }
   ],
   "source": [
    "#create dataframe from list and broadcast\n",
    "heights=[59,65,62,65]\n",
    "data={'heights':heights,'sex':'M'}\n",
    "df4=pd.DataFrame(data)\n",
    "df4.tail()"
   ]
  },
  {
   "cell_type": "code",
   "execution_count": null,
   "metadata": {},
   "outputs": [],
   "source": [
    "#inspection\n",
    "type(df)\n",
    "df.shape\n",
    "df.columns\n",
    "type(df.columns)\n",
    "df.index\n",
    "df.head(5)\n",
    "df.tail()\n",
    "df.info()"
   ]
  },
  {
   "cell_type": "code",
   "execution_count": null,
   "metadata": {},
   "outputs": [],
   "source": [
    "#slicing\n",
    "df.iloc[:5,:]\n",
    "df.iloc[-5:,:]\n",
    "df.iloc[10:20,:]\n",
    "#titanic.loc[titanic['pclass'] == 1]"
   ]
  },
  {
   "cell_type": "code",
   "execution_count": 16,
   "metadata": {},
   "outputs": [
    {
     "name": "stdout",
     "output_type": "stream",
     "text": [
      "  weekday    city  visitors\n",
      "0     Sun  Austin       NaN\n",
      "1     Sun  Dallas     237.0\n",
      "2     Mon  Austin     326.0\n",
      "  weekday    city  visitors  fees\n",
      "0     Sun  Austin       139     0\n",
      "1     Sun  Dallas       237     0\n",
      "2     Mon  Austin       326     0\n"
     ]
    }
   ],
   "source": [
    "#assigning values\n",
    "df2.iloc[::3,-1]=np.nan\n",
    "print(df2.head())\n",
    "df3['fees']=0\n",
    "print(df3.head())"
   ]
  },
  {
   "cell_type": "code",
   "execution_count": null,
   "metadata": {},
   "outputs": [],
   "source": [
    "#extract column\n",
    "low = df['low']\n",
    "type(low)\n",
    "lows = low.values\n",
    "dfn = df['sunspots','definite']"
   ]
  },
  {
   "cell_type": "code",
   "execution_count": 18,
   "metadata": {},
   "outputs": [
    {
     "data": {
      "text/html": [
       "<div>\n",
       "<style scoped>\n",
       "    .dataframe tbody tr th:only-of-type {\n",
       "        vertical-align: middle;\n",
       "    }\n",
       "\n",
       "    .dataframe tbody tr th {\n",
       "        vertical-align: top;\n",
       "    }\n",
       "\n",
       "    .dataframe thead th {\n",
       "        text-align: right;\n",
       "    }\n",
       "</style>\n",
       "<table border=\"1\" class=\"dataframe\">\n",
       "  <thead>\n",
       "    <tr style=\"text-align: right;\">\n",
       "      <th></th>\n",
       "      <th>height (in)</th>\n",
       "      <th>gender</th>\n",
       "    </tr>\n",
       "  </thead>\n",
       "  <tbody>\n",
       "    <tr>\n",
       "      <th>1</th>\n",
       "      <td>59</td>\n",
       "      <td>M</td>\n",
       "    </tr>\n",
       "    <tr>\n",
       "      <th>2</th>\n",
       "      <td>65</td>\n",
       "      <td>M</td>\n",
       "    </tr>\n",
       "    <tr>\n",
       "      <th>3</th>\n",
       "      <td>62</td>\n",
       "      <td>M</td>\n",
       "    </tr>\n",
       "    <tr>\n",
       "      <th>4</th>\n",
       "      <td>65</td>\n",
       "      <td>M</td>\n",
       "    </tr>\n",
       "  </tbody>\n",
       "</table>\n",
       "</div>"
      ],
      "text/plain": [
       "   height (in) gender\n",
       "1           59      M\n",
       "2           65      M\n",
       "3           62      M\n",
       "4           65      M"
      ]
     },
     "execution_count": 18,
     "metadata": {},
     "output_type": "execute_result"
    }
   ],
   "source": [
    "#change column names and index values and names\n",
    "df4.columns=['height (in)','gender']\n",
    "df4.index=[1,2,3,4]\n",
    "df4.head()\n",
    "#df.index=df['date']\n",
    "#df.index.name='date'"
   ]
  },
  {
   "cell_type": "code",
   "execution_count": 20,
   "metadata": {},
   "outputs": [],
   "source": [
    "#writing dataframe to files\n",
    "df.to_csv('filename.csv')\n",
    "df.to_excel('filename2.xlsx',index=False)"
   ]
  },
  {
   "cell_type": "code",
   "execution_count": 43,
   "metadata": {},
   "outputs": [
    {
     "data": {
      "image/png": "[encoded data removed]",
      "text/plain": [
       "<Figure size 432x288 with 1 Axes>"
      ]
     },
     "metadata": {
      "needs_background": "light"
     },
     "output_type": "display_data"
    },
    {
     "data": {
      "image/png": "[encoded data removed]",
      "text/plain": [
       "<Figure size 432x288 with 1 Axes>"
      ]
     },
     "metadata": {
      "needs_background": "light"
     },
     "output_type": "display_data"
    },
    {
     "data": {
      "image/png": "[encoded data removed]",
      "text/plain": [
       "<Figure size 432x288 with 1 Axes>"
      ]
     },
     "metadata": {
      "needs_background": "light"
     },
     "output_type": "display_data"
    },
    {
     "data": {
      "image/png": "[encoded data removed]",
      "text/plain": [
       "<Figure size 432x288 with 1 Axes>"
      ]
     },
     "metadata": {
      "needs_background": "light"
     },
     "output_type": "display_data"
    }
   ],
   "source": [
    "#plotting\n",
    "plt.plot(df4['height (in)'].values)\n",
    "plt.show()\n",
    "plt.plot(df4['height (in)'])\n",
    "plt.show()\n",
    "df4['height (in)'].plot(color='r',style='.-',legend=True)\n",
    "plt.axis((1,3,0,70))\n",
    "plt.show() \n",
    "df4.plot()\n",
    "plt.yscale('log')\n",
    "plt.title('Candidates Heights')\n",
    "plt.xlabel('Candidate #')\n",
    "plt.ylabel('Log of Heights')\n",
    "plt.savefig('heights.jpg')\n",
    "plt.show()\n",
    "\n",
    "#df.plot(subplots=True)"
   ]
  },
  {
   "cell_type": "code",
   "execution_count": 45,
   "metadata": {},
   "outputs": [],
   "source": [
    "iris=sns.load_dataset('iris')"
   ]
  },
  {
   "cell_type": "code",
   "execution_count": 47,
   "metadata": {},
   "outputs": [
    {
     "data": {
      "text/html": [
       "<div>\n",
       "<style scoped>\n",
       "    .dataframe tbody tr th:only-of-type {\n",
       "        vertical-align: middle;\n",
       "    }\n",
       "\n",
       "    .dataframe tbody tr th {\n",
       "        vertical-align: top;\n",
       "    }\n",
       "\n",
       "    .dataframe thead th {\n",
       "        text-align: right;\n",
       "    }\n",
       "</style>\n",
       "<table border=\"1\" class=\"dataframe\">\n",
       "  <thead>\n",
       "    <tr style=\"text-align: right;\">\n",
       "      <th></th>\n",
       "      <th>sepal_length</th>\n",
       "      <th>sepal_width</th>\n",
       "      <th>petal_length</th>\n",
       "      <th>petal_width</th>\n",
       "      <th>species</th>\n",
       "    </tr>\n",
       "  </thead>\n",
       "  <tbody>\n",
       "    <tr>\n",
       "      <th>0</th>\n",
       "      <td>5.1</td>\n",
       "      <td>3.5</td>\n",
       "      <td>1.4</td>\n",
       "      <td>0.2</td>\n",
       "      <td>setosa</td>\n",
       "    </tr>\n",
       "    <tr>\n",
       "      <th>1</th>\n",
       "      <td>4.9</td>\n",
       "      <td>3.0</td>\n",
       "      <td>1.4</td>\n",
       "      <td>0.2</td>\n",
       "      <td>setosa</td>\n",
       "    </tr>\n",
       "    <tr>\n",
       "      <th>2</th>\n",
       "      <td>4.7</td>\n",
       "      <td>3.2</td>\n",
       "      <td>1.3</td>\n",
       "      <td>0.2</td>\n",
       "      <td>setosa</td>\n",
       "    </tr>\n",
       "    <tr>\n",
       "      <th>3</th>\n",
       "      <td>4.6</td>\n",
       "      <td>3.1</td>\n",
       "      <td>1.5</td>\n",
       "      <td>0.2</td>\n",
       "      <td>setosa</td>\n",
       "    </tr>\n",
       "    <tr>\n",
       "      <th>4</th>\n",
       "      <td>5.0</td>\n",
       "      <td>3.6</td>\n",
       "      <td>1.4</td>\n",
       "      <td>0.2</td>\n",
       "      <td>setosa</td>\n",
       "    </tr>\n",
       "  </tbody>\n",
       "</table>\n",
       "</div>"
      ],
      "text/plain": [
       "   sepal_length  sepal_width  petal_length  petal_width species\n",
       "0           5.1          3.5           1.4          0.2  setosa\n",
       "1           4.9          3.0           1.4          0.2  setosa\n",
       "2           4.7          3.2           1.3          0.2  setosa\n",
       "3           4.6          3.1           1.5          0.2  setosa\n",
       "4           5.0          3.6           1.4          0.2  setosa"
      ]
     },
     "execution_count": 47,
     "metadata": {},
     "output_type": "execute_result"
    }
   ],
   "source": [
    "iris.head()"
   ]
  },
  {
   "cell_type": "code",
   "execution_count": 90,
   "metadata": {},
   "outputs": [
    {
     "data": {
      "text/plain": [
       "array(['setosa', 'versicolor', 'virginica'], dtype=object)"
      ]
     },
     "execution_count": 90,
     "metadata": {},
     "output_type": "execute_result"
    }
   ],
   "source": [
    "iris['species'].unique()"
   ]
  },
  {
   "cell_type": "code",
   "execution_count": 84,
   "metadata": {},
   "outputs": [
    {
     "data": {
      "text/html": [
       "<div>\n",
       "<style scoped>\n",
       "    .dataframe tbody tr th:only-of-type {\n",
       "        vertical-align: middle;\n",
       "    }\n",
       "\n",
       "    .dataframe tbody tr th {\n",
       "        vertical-align: top;\n",
       "    }\n",
       "\n",
       "    .dataframe thead th {\n",
       "        text-align: right;\n",
       "    }\n",
       "</style>\n",
       "<table border=\"1\" class=\"dataframe\">\n",
       "  <thead>\n",
       "    <tr style=\"text-align: right;\">\n",
       "      <th></th>\n",
       "      <th>sepal_length</th>\n",
       "      <th>sepal_width</th>\n",
       "      <th>petal_length</th>\n",
       "      <th>petal_width</th>\n",
       "      <th>species</th>\n",
       "    </tr>\n",
       "  </thead>\n",
       "  <tbody>\n",
       "    <tr>\n",
       "      <th>count</th>\n",
       "      <td>150.000000</td>\n",
       "      <td>150.000000</td>\n",
       "      <td>150.000000</td>\n",
       "      <td>150.000000</td>\n",
       "      <td>150</td>\n",
       "    </tr>\n",
       "    <tr>\n",
       "      <th>unique</th>\n",
       "      <td>NaN</td>\n",
       "      <td>NaN</td>\n",
       "      <td>NaN</td>\n",
       "      <td>NaN</td>\n",
       "      <td>3</td>\n",
       "    </tr>\n",
       "    <tr>\n",
       "      <th>top</th>\n",
       "      <td>NaN</td>\n",
       "      <td>NaN</td>\n",
       "      <td>NaN</td>\n",
       "      <td>NaN</td>\n",
       "      <td>versicolor</td>\n",
       "    </tr>\n",
       "    <tr>\n",
       "      <th>freq</th>\n",
       "      <td>NaN</td>\n",
       "      <td>NaN</td>\n",
       "      <td>NaN</td>\n",
       "      <td>NaN</td>\n",
       "      <td>50</td>\n",
       "    </tr>\n",
       "    <tr>\n",
       "      <th>mean</th>\n",
       "      <td>5.843333</td>\n",
       "      <td>3.057333</td>\n",
       "      <td>3.758000</td>\n",
       "      <td>1.199333</td>\n",
       "      <td>NaN</td>\n",
       "    </tr>\n",
       "    <tr>\n",
       "      <th>std</th>\n",
       "      <td>0.828066</td>\n",
       "      <td>0.435866</td>\n",
       "      <td>1.765298</td>\n",
       "      <td>0.762238</td>\n",
       "      <td>NaN</td>\n",
       "    </tr>\n",
       "    <tr>\n",
       "      <th>min</th>\n",
       "      <td>4.300000</td>\n",
       "      <td>2.000000</td>\n",
       "      <td>1.000000</td>\n",
       "      <td>0.100000</td>\n",
       "      <td>NaN</td>\n",
       "    </tr>\n",
       "    <tr>\n",
       "      <th>25%</th>\n",
       "      <td>5.100000</td>\n",
       "      <td>2.800000</td>\n",
       "      <td>1.600000</td>\n",
       "      <td>0.300000</td>\n",
       "      <td>NaN</td>\n",
       "    </tr>\n",
       "    <tr>\n",
       "      <th>50%</th>\n",
       "      <td>5.800000</td>\n",
       "      <td>3.000000</td>\n",
       "      <td>4.350000</td>\n",
       "      <td>1.300000</td>\n",
       "      <td>NaN</td>\n",
       "    </tr>\n",
       "    <tr>\n",
       "      <th>75%</th>\n",
       "      <td>6.400000</td>\n",
       "      <td>3.300000</td>\n",
       "      <td>5.100000</td>\n",
       "      <td>1.800000</td>\n",
       "      <td>NaN</td>\n",
       "    </tr>\n",
       "    <tr>\n",
       "      <th>max</th>\n",
       "      <td>7.900000</td>\n",
       "      <td>4.400000</td>\n",
       "      <td>6.900000</td>\n",
       "      <td>2.500000</td>\n",
       "      <td>NaN</td>\n",
       "    </tr>\n",
       "  </tbody>\n",
       "</table>\n",
       "</div>"
      ],
      "text/plain": [
       "        sepal_length  sepal_width  petal_length  petal_width     species\n",
       "count     150.000000   150.000000    150.000000   150.000000         150\n",
       "unique           NaN          NaN           NaN          NaN           3\n",
       "top              NaN          NaN           NaN          NaN  versicolor\n",
       "freq             NaN          NaN           NaN          NaN          50\n",
       "mean        5.843333     3.057333      3.758000     1.199333         NaN\n",
       "std         0.828066     0.435866      1.765298     0.762238         NaN\n",
       "min         4.300000     2.000000      1.000000     0.100000         NaN\n",
       "25%         5.100000     2.800000      1.600000     0.300000         NaN\n",
       "50%         5.800000     3.000000      4.350000     1.300000         NaN\n",
       "75%         6.400000     3.300000      5.100000     1.800000         NaN\n",
       "max         7.900000     4.400000      6.900000     2.500000         NaN"
      ]
     },
     "execution_count": 84,
     "metadata": {},
     "output_type": "execute_result"
    }
   ],
   "source": [
    "iris.describe(include='all')"
   ]
  },
  {
   "cell_type": "code",
   "execution_count": 79,
   "metadata": {},
   "outputs": [
    {
     "data": {
      "text/plain": [
       "numpy.int64"
      ]
     },
     "execution_count": 79,
     "metadata": {},
     "output_type": "execute_result"
    }
   ],
   "source": [
    "type(iris['sepal_length'].count()) #non null entries in this column\n",
    "type(iris.count().values[3]) #non null entries for each column"
   ]
  },
  {
   "cell_type": "code",
   "execution_count": 88,
   "metadata": {},
   "outputs": [
    {
     "name": "stdout",
     "output_type": "stream",
     "text": [
      "150\n",
      "sepal_length    150\n",
      "sepal_width     150\n",
      "petal_length    150\n",
      "petal_width     150\n",
      "species         150\n",
      "dtype: int64\n",
      "150\n",
      "5.843333333333335\n",
      "sepal_length    5.843333\n",
      "sepal_width     3.057333\n",
      "petal_length    3.758000\n",
      "petal_width     1.199333\n",
      "dtype: float64\n",
      "1.199333333333334\n",
      "sepal_length    0.828066\n",
      "sepal_width     0.435866\n",
      "petal_length    1.765298\n",
      "petal_width     0.762238\n",
      "dtype: float64\n",
      "sepal_length    5.80\n",
      "sepal_width     3.00\n",
      "petal_length    4.35\n",
      "petal_width     1.30\n",
      "dtype: float64\n",
      "      sepal_length  sepal_width  petal_length  petal_width\n",
      "0.25           5.1          2.8           1.6          0.3\n",
      "0.75           6.4          3.3           5.1          1.8\n",
      "[3.6000000000000005 2.4000000000000004 5.9 2.4]\n"
     ]
    }
   ],
   "source": [
    "print(iris['sepal_length'].count()) #count of non null entries in this column\n",
    "print(iris.count()) #count of non null entries for each column\n",
    "print(iris.count().values[3]) #count of non null entries in this column\n",
    "print(iris['sepal_length'].mean()) #mean of non null entries in this column\n",
    "print(iris.mean(axis='columns')) #mean of non null entries for each column\n",
    "print(iris.mean().values[3]) #mean of non null entries in this column\n",
    "print(iris.std()) #std of non null entries for each column\n",
    "print(iris.median()) #median of non null entries for each column\n",
    "print(iris.quantile([.25,.75])) #.25 and .75 quantiles of non null entries for each column\n",
    "print(iris.max().values[0:4]-iris.min().values[0:4]) #range of non null entries for each column"
   ]
  },
  {
   "cell_type": "code",
   "execution_count": 89,
   "metadata": {},
   "outputs": [
    {
     "data": {
      "image/png": "[encoded data removed]",
      "text/plain": [
       "<Figure size 432x288 with 1 Axes>"
      ]
     },
     "metadata": {
      "needs_background": "light"
     },
     "output_type": "display_data"
    },
    {
     "data": {
      "image/png": "[encoded data removed]",
      "text/plain": [
       "<Figure size 432x288 with 1 Axes>"
      ]
     },
     "metadata": {
      "needs_background": "light"
     },
     "output_type": "display_data"
    },
    {
     "data": {
      "image/png": "[encoded data removed]",
      "text/plain": [
       "<Figure size 432x288 with 1 Axes>"
      ]
     },
     "metadata": {
      "needs_background": "light"
     },
     "output_type": "display_data"
    },
    {
     "data": {
      "image/png": "[encoded data removed]",
      "text/plain": [
       "<Figure size 432x288 with 1 Axes>"
      ]
     },
     "metadata": {
      "needs_background": "light"
     },
     "output_type": "display_data"
    },
    {
     "data": {
      "image/png": "[encoded data removed]",
      "text/plain": [
       "<Figure size 432x288 with 1 Axes>"
      ]
     },
     "metadata": {
      "needs_background": "light"
     },
     "output_type": "display_data"
    },
    {
     "data": {
      "image/png": "[encoded data removed]",
      "text/plain": [
       "<Figure size 432x288 with 4 Axes>"
      ]
     },
     "metadata": {
      "needs_background": "light"
     },
     "output_type": "display_data"
    }
   ],
   "source": [
    "iris.plot(x='sepal_length',y='sepal_width',kind='scatter')\n",
    "plt.show()\n",
    "iris.plot(y='sepal_length',bins=30,kind='hist')\n",
    "plt.show()\n",
    "iris.plot(y='sepal_length',kind='box')\n",
    "plt.show()\n",
    "iris.plot(y='sepal_length',bins=30,kind='hist',range=(4,8),density=True)\n",
    "plt.show()\n",
    "iris.plot(y='sepal_length',bins=30,kind='hist',range=(4,8),cumulative=True,density=True)\n",
    "plt.show()\n",
    "iris.plot(kind='box',subplots=True,sharey=True)\n",
    "plt.show()\n",
    "#note: iris.plot(kind='hist'), or iris.plt.hist(), or iris.hist() are all options"
   ]
  },
  {
   "cell_type": "code",
   "execution_count": 94,
   "metadata": {},
   "outputs": [
    {
     "name": "stdout",
     "output_type": "stream",
     "text": [
      "   sepal_length  sepal_width  petal_length  petal_width species\n",
      "0           5.1          3.5           1.4          0.2  setosa\n",
      "1           4.9          3.0           1.4          0.2  setosa\n",
      "2           4.7          3.2           1.3          0.2  setosa\n",
      "3           4.6          3.1           1.5          0.2  setosa\n",
      "4           5.0          3.6           1.4          0.2  setosa\n",
      "   sepal_length  sepal_width  petal_length  petal_width\n",
      "0           5.1          3.5           1.4          0.2\n",
      "1           4.9          3.0           1.4          0.2\n",
      "2           4.7          3.2           1.3          0.2\n",
      "3           4.6          3.1           1.5          0.2\n",
      "4           5.0          3.6           1.4          0.2\n"
     ]
    }
   ],
   "source": [
    "#splitting up the dataframe into smaller dataframe\n",
    "indices = iris['species']=='setosa'\n",
    "setosa=iris.loc[indices,:]\n",
    "print(setosa.head())\n",
    "del setosa['species'] #delete species column\n",
    "print(setosa.head()) \n",
    "indices = iris['species']=='virginica'\n",
    "virginica=iris.loc[indices,:]\n",
    "indices = iris['species']=='versicolor'\n",
    "versicolor=iris.loc[indices,:]\n",
    "del virginica['species'],versicolor['species'] #delete species column\n",
    " "
   ]
  },
  {
   "cell_type": "code",
   "execution_count": 100,
   "metadata": {},
   "outputs": [
    {
     "data": {
      "image/png": "[encoded data removed]",
      "text/plain": [
       "<Figure size 432x288 with 1 Axes>"
      ]
     },
     "metadata": {
      "needs_background": "light"
     },
     "output_type": "display_data"
    },
    {
     "data": {
      "image/png": "[encoded data removed]",
      "text/plain": [
       "<Figure size 432x288 with 1 Axes>"
      ]
     },
     "metadata": {
      "needs_background": "light"
     },
     "output_type": "display_data"
    },
    {
     "data": {
      "image/png": "[encoded data removed]",
      "text/plain": [
       "<Figure size 432x288 with 1 Axes>"
      ]
     },
     "metadata": {
      "needs_background": "light"
     },
     "output_type": "display_data"
    }
   ],
   "source": [
    "setosa.plot(x='sepal_length',y='sepal_width',kind='scatter',color='r')\n",
    "virginica.plot(x='sepal_length',y='sepal_width',kind='scatter',color='b')\n",
    "versicolor.plot(x='sepal_length',y='sepal_width',kind='scatter',color='g')\n",
    "plt.show()"
   ]
  },
  {
   "cell_type": "code",
   "execution_count": 98,
   "metadata": {},
   "outputs": [
    {
     "data": {
      "text/plain": [
       "<matplotlib.axes._subplots.AxesSubplot at 0x200a3953b70>"
      ]
     },
     "execution_count": 98,
     "metadata": {},
     "output_type": "execute_result"
    },
    {
     "data": {
      "image/png": "[encoded data removed]",
      "text/plain": [
       "<Figure size 432x288 with 1 Axes>"
      ]
     },
     "metadata": {
      "needs_background": "light"
     },
     "output_type": "display_data"
    }
   ],
   "source": [
    "setosa.plot(kind='hist',bins=50,range=(0,8),alpha=0.3)"
   ]
  },
  {
   "cell_type": "code",
   "execution_count": null,
   "metadata": {},
   "outputs": [],
   "source": [
    "fig, axes = plt.subplots(nrows=2, ncols=1)\n",
    "\n",
    "# Plot the PDF\n",
    "df.fraction.plot(ax=axes[0], kind='hist', normed=True, bins=30, range=(0,.3))\n",
    "plt.show()\n",
    "\n",
    "# Plot the CDF\n",
    "df.fraction.plot(ax=axes[1], kind='hist', cumulative=True, bins=30, density=True, range=(0,.3))\n",
    "plt.show()"
   ]
  },
  {
   "cell_type": "code",
   "execution_count": 103,
   "metadata": {},
   "outputs": [],
   "source": [
    "df=pd.read_csv('./datasets/weather_data_austin_2010.csv',parse_dates=True,index_col='Date')#or index_col=3)"
   ]
  },
  {
   "cell_type": "code",
   "execution_count": 106,
   "metadata": {},
   "outputs": [
    {
     "data": {
      "text/html": [
       "<div>\n",
       "<style scoped>\n",
       "    .dataframe tbody tr th:only-of-type {\n",
       "        vertical-align: middle;\n",
       "    }\n",
       "\n",
       "    .dataframe tbody tr th {\n",
       "        vertical-align: top;\n",
       "    }\n",
       "\n",
       "    .dataframe thead th {\n",
       "        text-align: right;\n",
       "    }\n",
       "</style>\n",
       "<table border=\"1\" class=\"dataframe\">\n",
       "  <thead>\n",
       "    <tr style=\"text-align: right;\">\n",
       "      <th></th>\n",
       "      <th>Temperature</th>\n",
       "      <th>DewPoint</th>\n",
       "      <th>Pressure</th>\n",
       "    </tr>\n",
       "    <tr>\n",
       "      <th>Date</th>\n",
       "      <th></th>\n",
       "      <th></th>\n",
       "      <th></th>\n",
       "    </tr>\n",
       "  </thead>\n",
       "  <tbody>\n",
       "    <tr>\n",
       "      <th>2010-01-01 00:00:00</th>\n",
       "      <td>46.2</td>\n",
       "      <td>37.5</td>\n",
       "      <td>1.0</td>\n",
       "    </tr>\n",
       "    <tr>\n",
       "      <th>2010-01-01 01:00:00</th>\n",
       "      <td>44.6</td>\n",
       "      <td>37.1</td>\n",
       "      <td>1.0</td>\n",
       "    </tr>\n",
       "    <tr>\n",
       "      <th>2010-01-01 02:00:00</th>\n",
       "      <td>44.1</td>\n",
       "      <td>36.9</td>\n",
       "      <td>1.0</td>\n",
       "    </tr>\n",
       "    <tr>\n",
       "      <th>2010-01-01 03:00:00</th>\n",
       "      <td>43.8</td>\n",
       "      <td>36.9</td>\n",
       "      <td>1.0</td>\n",
       "    </tr>\n",
       "    <tr>\n",
       "      <th>2010-01-01 04:00:00</th>\n",
       "      <td>43.5</td>\n",
       "      <td>36.8</td>\n",
       "      <td>1.0</td>\n",
       "    </tr>\n",
       "  </tbody>\n",
       "</table>\n",
       "</div>"
      ],
      "text/plain": [
       "                     Temperature  DewPoint  Pressure\n",
       "Date                                                \n",
       "2010-01-01 00:00:00         46.2      37.5       1.0\n",
       "2010-01-01 01:00:00         44.6      37.1       1.0\n",
       "2010-01-01 02:00:00         44.1      36.9       1.0\n",
       "2010-01-01 03:00:00         43.8      36.9       1.0\n",
       "2010-01-01 04:00:00         43.5      36.8       1.0"
      ]
     },
     "execution_count": 106,
     "metadata": {},
     "output_type": "execute_result"
    }
   ],
   "source": [
    "df.set_index()"
   ]
  },
  {
   "cell_type": "code",
   "execution_count": 111,
   "metadata": {},
   "outputs": [
    {
     "name": "stdout",
     "output_type": "stream",
     "text": [
      "36.9\n",
      "                     Temperature  DewPoint  Pressure\n",
      "Date                                                \n",
      "2010-01-01 00:00:00         46.2      37.5       1.0\n",
      "2010-01-01 01:00:00         44.6      37.1       1.0\n",
      "2010-01-01 02:00:00         44.1      36.9       1.0\n",
      "2010-01-01 03:00:00         43.8      36.9       1.0\n",
      "2010-01-01 04:00:00         43.5      36.8       1.0\n",
      "2010-01-01 05:00:00         43.0      36.5       1.0\n",
      "2010-01-01 06:00:00         43.1      36.3       1.0\n",
      "2010-01-01 07:00:00         42.3      35.9       1.0\n",
      "2010-01-01 08:00:00         42.5      36.2       1.0\n",
      "2010-01-01 09:00:00         45.9      37.8       1.0\n",
      "2010-01-01 10:00:00         49.4      38.3       1.0\n",
      "2010-01-01 11:00:00         52.4      38.3       1.0\n",
      "2010-01-01 12:00:00         54.9      38.2       1.0\n",
      "2010-01-01 13:00:00         57.1      38.5       1.0\n",
      "2010-01-01 14:00:00         58.4      38.2       1.0\n",
      "2010-01-01 15:00:00         59.1      38.3       1.0\n",
      "2010-01-01 16:00:00         59.1      38.3       1.0\n",
      "2010-01-01 17:00:00         58.0      38.7       1.0\n",
      "2010-01-01 18:00:00         54.5      38.2       1.0\n",
      "2010-01-01 19:00:00         51.3      38.5       1.0\n",
      "2010-01-01 20:00:00         49.2      38.4       1.0\n",
      "2010-01-01 21:00:00         48.1      38.5       1.0\n",
      "2010-01-01 22:00:00         47.2      38.5       1.0\n",
      "2010-01-01 23:00:00         46.4      38.4       1.0\n",
      "                     Temperature  DewPoint  Pressure\n",
      "Date                                                \n",
      "2010-12-01 00:00:00         51.3      43.0       1.0\n",
      "2010-12-01 01:00:00         50.0      42.7       1.0\n",
      "2010-12-01 02:00:00         49.2      42.3       1.0\n",
      "2010-12-01 03:00:00         48.7      42.0       1.0\n",
      "2010-12-01 04:00:00         48.4      41.8       1.0\n",
      "2010-12-01 05:00:00         48.3      41.8       1.0\n",
      "2010-12-01 06:00:00         48.4      41.8       1.0\n",
      "2010-12-01 07:00:00         47.7      41.6       1.0\n",
      "2010-12-01 08:00:00         48.8      42.4       1.0\n",
      "2010-12-01 09:00:00         52.4      43.7       1.0\n",
      "2010-12-01 10:00:00         56.2      44.1       1.0\n",
      "2010-12-01 11:00:00         59.5      44.1       1.0\n",
      "2010-12-01 12:00:00         61.9      43.9       1.0\n",
      "2010-12-01 13:00:00         63.8      43.8       1.0\n",
      "2010-12-01 14:00:00         65.0      43.6       1.0\n",
      "2010-12-01 15:00:00         65.5      42.9       1.0\n",
      "2010-12-01 16:00:00         65.1      42.7       1.0\n",
      "2010-12-01 17:00:00         63.3      42.9       1.0\n",
      "2010-12-01 18:00:00         59.6      43.4       1.0\n",
      "2010-12-01 19:00:00         56.2      43.5       1.0\n",
      "2010-12-01 20:00:00         54.3      43.3       1.0\n",
      "2010-12-01 21:00:00         53.0      43.4       1.0\n",
      "2010-12-01 22:00:00         52.3      43.4       1.0\n",
      "2010-12-01 23:00:00         51.3      43.0       1.0\n",
      "2010-12-02 00:00:00         51.2      43.1       1.0\n",
      "2010-12-02 01:00:00         49.9      42.7       1.0\n",
      "2010-12-02 02:00:00         49.1      42.3       1.0\n",
      "2010-12-02 03:00:00         48.7      42.0       1.0\n",
      "2010-12-02 04:00:00         48.3      41.9       1.0\n",
      "2010-12-02 05:00:00         48.2      41.8       1.0\n",
      "...                          ...       ...       ...\n",
      "2010-12-30 18:00:00         54.1      37.9       1.0\n",
      "2010-12-30 19:00:00         50.9      38.2       1.0\n",
      "2010-12-30 20:00:00         49.0      38.0       1.0\n",
      "2010-12-30 21:00:00         47.9      38.1       1.0\n",
      "2010-12-30 22:00:00         46.9      38.0       1.0\n",
      "2010-12-30 23:00:00         46.1      37.9       1.0\n",
      "2010-12-31 00:00:00         46.1      37.5       1.0\n",
      "2010-12-31 01:00:00         44.5      37.2       1.0\n",
      "2010-12-31 02:00:00         44.1      37.0       1.0\n",
      "2010-12-31 03:00:00         43.7      36.9       1.0\n",
      "2010-12-31 04:00:00         43.5      36.8       1.0\n",
      "2010-12-31 05:00:00         42.9      36.5       1.0\n",
      "2010-12-31 06:00:00         43.0      36.1       1.0\n",
      "2010-12-31 07:00:00         42.2      35.7       1.0\n",
      "2010-12-31 08:00:00         42.5      36.1       1.0\n",
      "2010-12-31 09:00:00         46.0      37.7       1.0\n",
      "2010-12-31 10:00:00         49.4      38.0       1.0\n",
      "2010-12-31 11:00:00         52.4      38.0       1.0\n",
      "2010-12-31 12:00:00         54.7      37.9       1.0\n",
      "2010-12-31 13:00:00         56.9      38.2       1.0\n",
      "2010-12-31 14:00:00         58.2      37.9       1.0\n",
      "2010-12-31 15:00:00         58.8      37.9       1.0\n",
      "2010-12-31 16:00:00         58.8      37.9       1.0\n",
      "2010-12-31 17:00:00         57.6      38.2       1.0\n",
      "2010-12-31 18:00:00         54.3      37.8       1.0\n",
      "2010-12-31 19:00:00         51.1      38.1       1.0\n",
      "2010-12-31 20:00:00         49.0      37.9       1.0\n",
      "2010-12-31 21:00:00         47.9      37.9       1.0\n",
      "2010-12-31 22:00:00         46.9      37.9       1.0\n",
      "2010-12-31 23:00:00         46.2      37.7       1.0\n",
      "\n",
      "[744 rows x 3 columns]\n",
      "                     Temperature  DewPoint  Pressure\n",
      "Date                                                \n",
      "2010-01-13 23:00:00         46.0      37.5       1.0\n",
      "2010-01-14 00:00:00         46.0      37.1       1.0\n",
      "2010-01-14 01:00:00         44.6      36.8       1.0\n",
      "2010-01-14 02:00:00         44.0      36.6       1.0\n",
      "2010-01-14 03:00:00         43.6      36.4       1.0\n"
     ]
    }
   ],
   "source": [
    "print(df.loc['2010-01-01 02:00:00','DewPoint'])\n",
    "print(df.loc['2010-01-01'])\n",
    "print(df.loc['2010-12'])\n",
    "print(df.loc['2010-01-13 23:00:00':'2010-01-14 03:00:00'])"
   ]
  },
  {
   "cell_type": "code",
   "execution_count": 119,
   "metadata": {},
   "outputs": [
    {
     "data": {
      "text/html": [
       "<div>\n",
       "<style scoped>\n",
       "    .dataframe tbody tr th:only-of-type {\n",
       "        vertical-align: middle;\n",
       "    }\n",
       "\n",
       "    .dataframe tbody tr th {\n",
       "        vertical-align: top;\n",
       "    }\n",
       "\n",
       "    .dataframe thead th {\n",
       "        text-align: right;\n",
       "    }\n",
       "</style>\n",
       "<table border=\"1\" class=\"dataframe\">\n",
       "  <thead>\n",
       "    <tr style=\"text-align: right;\">\n",
       "      <th></th>\n",
       "      <th>Temperature</th>\n",
       "      <th>DewPoint</th>\n",
       "      <th>Pressure</th>\n",
       "    </tr>\n",
       "    <tr>\n",
       "      <th>Date</th>\n",
       "      <th></th>\n",
       "      <th></th>\n",
       "      <th></th>\n",
       "    </tr>\n",
       "  </thead>\n",
       "  <tbody>\n",
       "    <tr>\n",
       "      <th>2010-01-01 00:00:00</th>\n",
       "      <td>46.2</td>\n",
       "      <td>37.5</td>\n",
       "      <td>1.0</td>\n",
       "    </tr>\n",
       "    <tr>\n",
       "      <th>2010-01-01 01:00:00</th>\n",
       "      <td>44.6</td>\n",
       "      <td>37.1</td>\n",
       "      <td>1.0</td>\n",
       "    </tr>\n",
       "    <tr>\n",
       "      <th>2010-01-01 02:00:00</th>\n",
       "      <td>44.1</td>\n",
       "      <td>36.9</td>\n",
       "      <td>1.0</td>\n",
       "    </tr>\n",
       "    <tr>\n",
       "      <th>2010-01-01 03:00:00</th>\n",
       "      <td>43.8</td>\n",
       "      <td>36.9</td>\n",
       "      <td>1.0</td>\n",
       "    </tr>\n",
       "    <tr>\n",
       "      <th>2010-01-01 04:00:00</th>\n",
       "      <td>43.5</td>\n",
       "      <td>36.8</td>\n",
       "      <td>1.0</td>\n",
       "    </tr>\n",
       "    <tr>\n",
       "      <th>2010-01-01 05:00:00</th>\n",
       "      <td>43.0</td>\n",
       "      <td>36.5</td>\n",
       "      <td>1.0</td>\n",
       "    </tr>\n",
       "    <tr>\n",
       "      <th>2010-01-01 06:00:00</th>\n",
       "      <td>43.1</td>\n",
       "      <td>36.3</td>\n",
       "      <td>1.0</td>\n",
       "    </tr>\n",
       "    <tr>\n",
       "      <th>2010-01-01 07:00:00</th>\n",
       "      <td>42.3</td>\n",
       "      <td>35.9</td>\n",
       "      <td>1.0</td>\n",
       "    </tr>\n",
       "    <tr>\n",
       "      <th>2010-01-01 08:00:00</th>\n",
       "      <td>42.5</td>\n",
       "      <td>36.2</td>\n",
       "      <td>1.0</td>\n",
       "    </tr>\n",
       "    <tr>\n",
       "      <th>2010-01-01 09:00:00</th>\n",
       "      <td>45.9</td>\n",
       "      <td>37.8</td>\n",
       "      <td>1.0</td>\n",
       "    </tr>\n",
       "    <tr>\n",
       "      <th>2010-01-01 10:00:00</th>\n",
       "      <td>49.4</td>\n",
       "      <td>38.3</td>\n",
       "      <td>1.0</td>\n",
       "    </tr>\n",
       "    <tr>\n",
       "      <th>2010-01-01 11:00:00</th>\n",
       "      <td>52.4</td>\n",
       "      <td>38.3</td>\n",
       "      <td>1.0</td>\n",
       "    </tr>\n",
       "    <tr>\n",
       "      <th>2010-01-01 12:00:00</th>\n",
       "      <td>54.9</td>\n",
       "      <td>38.2</td>\n",
       "      <td>1.0</td>\n",
       "    </tr>\n",
       "    <tr>\n",
       "      <th>2010-01-01 13:00:00</th>\n",
       "      <td>57.1</td>\n",
       "      <td>38.5</td>\n",
       "      <td>1.0</td>\n",
       "    </tr>\n",
       "    <tr>\n",
       "      <th>2010-01-01 14:00:00</th>\n",
       "      <td>58.4</td>\n",
       "      <td>38.2</td>\n",
       "      <td>1.0</td>\n",
       "    </tr>\n",
       "    <tr>\n",
       "      <th>2010-01-01 15:00:00</th>\n",
       "      <td>59.1</td>\n",
       "      <td>38.3</td>\n",
       "      <td>1.0</td>\n",
       "    </tr>\n",
       "    <tr>\n",
       "      <th>2010-01-01 16:00:00</th>\n",
       "      <td>59.1</td>\n",
       "      <td>38.3</td>\n",
       "      <td>1.0</td>\n",
       "    </tr>\n",
       "    <tr>\n",
       "      <th>2010-01-01 17:00:00</th>\n",
       "      <td>58.0</td>\n",
       "      <td>38.7</td>\n",
       "      <td>1.0</td>\n",
       "    </tr>\n",
       "    <tr>\n",
       "      <th>2010-01-01 18:00:00</th>\n",
       "      <td>54.5</td>\n",
       "      <td>38.2</td>\n",
       "      <td>1.0</td>\n",
       "    </tr>\n",
       "    <tr>\n",
       "      <th>2010-01-01 19:00:00</th>\n",
       "      <td>51.3</td>\n",
       "      <td>38.5</td>\n",
       "      <td>1.0</td>\n",
       "    </tr>\n",
       "    <tr>\n",
       "      <th>2010-01-01 20:00:00</th>\n",
       "      <td>49.2</td>\n",
       "      <td>38.4</td>\n",
       "      <td>1.0</td>\n",
       "    </tr>\n",
       "    <tr>\n",
       "      <th>2010-01-01 21:00:00</th>\n",
       "      <td>48.1</td>\n",
       "      <td>38.5</td>\n",
       "      <td>1.0</td>\n",
       "    </tr>\n",
       "    <tr>\n",
       "      <th>2010-01-01 22:00:00</th>\n",
       "      <td>47.2</td>\n",
       "      <td>38.5</td>\n",
       "      <td>1.0</td>\n",
       "    </tr>\n",
       "    <tr>\n",
       "      <th>2010-01-01 23:00:00</th>\n",
       "      <td>46.4</td>\n",
       "      <td>38.4</td>\n",
       "      <td>1.0</td>\n",
       "    </tr>\n",
       "    <tr>\n",
       "      <th>2010-01-02 00:00:00</th>\n",
       "      <td>46.5</td>\n",
       "      <td>38.2</td>\n",
       "      <td>1.0</td>\n",
       "    </tr>\n",
       "    <tr>\n",
       "      <th>2010-01-02 01:00:00</th>\n",
       "      <td>44.9</td>\n",
       "      <td>37.8</td>\n",
       "      <td>1.0</td>\n",
       "    </tr>\n",
       "    <tr>\n",
       "      <th>2010-01-02 02:00:00</th>\n",
       "      <td>44.4</td>\n",
       "      <td>37.7</td>\n",
       "      <td>1.0</td>\n",
       "    </tr>\n",
       "    <tr>\n",
       "      <th>2010-01-02 03:00:00</th>\n",
       "      <td>44.1</td>\n",
       "      <td>37.6</td>\n",
       "      <td>1.0</td>\n",
       "    </tr>\n",
       "    <tr>\n",
       "      <th>2010-01-02 04:00:00</th>\n",
       "      <td>43.9</td>\n",
       "      <td>37.6</td>\n",
       "      <td>1.0</td>\n",
       "    </tr>\n",
       "    <tr>\n",
       "      <th>2010-01-02 05:00:00</th>\n",
       "      <td>43.3</td>\n",
       "      <td>37.3</td>\n",
       "      <td>1.0</td>\n",
       "    </tr>\n",
       "    <tr>\n",
       "      <th>...</th>\n",
       "      <td>...</td>\n",
       "      <td>...</td>\n",
       "      <td>...</td>\n",
       "    </tr>\n",
       "    <tr>\n",
       "      <th>2010-12-30 18:00:00</th>\n",
       "      <td>54.1</td>\n",
       "      <td>37.9</td>\n",
       "      <td>1.0</td>\n",
       "    </tr>\n",
       "    <tr>\n",
       "      <th>2010-12-30 19:00:00</th>\n",
       "      <td>50.9</td>\n",
       "      <td>38.2</td>\n",
       "      <td>1.0</td>\n",
       "    </tr>\n",
       "    <tr>\n",
       "      <th>2010-12-30 20:00:00</th>\n",
       "      <td>49.0</td>\n",
       "      <td>38.0</td>\n",
       "      <td>1.0</td>\n",
       "    </tr>\n",
       "    <tr>\n",
       "      <th>2010-12-30 21:00:00</th>\n",
       "      <td>47.9</td>\n",
       "      <td>38.1</td>\n",
       "      <td>1.0</td>\n",
       "    </tr>\n",
       "    <tr>\n",
       "      <th>2010-12-30 22:00:00</th>\n",
       "      <td>46.9</td>\n",
       "      <td>38.0</td>\n",
       "      <td>1.0</td>\n",
       "    </tr>\n",
       "    <tr>\n",
       "      <th>2010-12-30 23:00:00</th>\n",
       "      <td>46.1</td>\n",
       "      <td>37.9</td>\n",
       "      <td>1.0</td>\n",
       "    </tr>\n",
       "    <tr>\n",
       "      <th>2010-12-31 00:00:00</th>\n",
       "      <td>46.1</td>\n",
       "      <td>37.5</td>\n",
       "      <td>1.0</td>\n",
       "    </tr>\n",
       "    <tr>\n",
       "      <th>2010-12-31 01:00:00</th>\n",
       "      <td>44.5</td>\n",
       "      <td>37.2</td>\n",
       "      <td>1.0</td>\n",
       "    </tr>\n",
       "    <tr>\n",
       "      <th>2010-12-31 02:00:00</th>\n",
       "      <td>44.1</td>\n",
       "      <td>37.0</td>\n",
       "      <td>1.0</td>\n",
       "    </tr>\n",
       "    <tr>\n",
       "      <th>2010-12-31 03:00:00</th>\n",
       "      <td>43.7</td>\n",
       "      <td>36.9</td>\n",
       "      <td>1.0</td>\n",
       "    </tr>\n",
       "    <tr>\n",
       "      <th>2010-12-31 04:00:00</th>\n",
       "      <td>43.5</td>\n",
       "      <td>36.8</td>\n",
       "      <td>1.0</td>\n",
       "    </tr>\n",
       "    <tr>\n",
       "      <th>2010-12-31 05:00:00</th>\n",
       "      <td>42.9</td>\n",
       "      <td>36.5</td>\n",
       "      <td>1.0</td>\n",
       "    </tr>\n",
       "    <tr>\n",
       "      <th>2010-12-31 06:00:00</th>\n",
       "      <td>43.0</td>\n",
       "      <td>36.1</td>\n",
       "      <td>1.0</td>\n",
       "    </tr>\n",
       "    <tr>\n",
       "      <th>2010-12-31 07:00:00</th>\n",
       "      <td>42.2</td>\n",
       "      <td>35.7</td>\n",
       "      <td>1.0</td>\n",
       "    </tr>\n",
       "    <tr>\n",
       "      <th>2010-12-31 08:00:00</th>\n",
       "      <td>42.5</td>\n",
       "      <td>36.1</td>\n",
       "      <td>1.0</td>\n",
       "    </tr>\n",
       "    <tr>\n",
       "      <th>2010-12-31 09:00:00</th>\n",
       "      <td>46.0</td>\n",
       "      <td>37.7</td>\n",
       "      <td>1.0</td>\n",
       "    </tr>\n",
       "    <tr>\n",
       "      <th>2010-12-31 10:00:00</th>\n",
       "      <td>49.4</td>\n",
       "      <td>38.0</td>\n",
       "      <td>1.0</td>\n",
       "    </tr>\n",
       "    <tr>\n",
       "      <th>2010-12-31 11:00:00</th>\n",
       "      <td>52.4</td>\n",
       "      <td>38.0</td>\n",
       "      <td>1.0</td>\n",
       "    </tr>\n",
       "    <tr>\n",
       "      <th>2010-12-31 12:00:00</th>\n",
       "      <td>54.7</td>\n",
       "      <td>37.9</td>\n",
       "      <td>1.0</td>\n",
       "    </tr>\n",
       "    <tr>\n",
       "      <th>2010-12-31 13:00:00</th>\n",
       "      <td>56.9</td>\n",
       "      <td>38.2</td>\n",
       "      <td>1.0</td>\n",
       "    </tr>\n",
       "    <tr>\n",
       "      <th>2010-12-31 14:00:00</th>\n",
       "      <td>58.2</td>\n",
       "      <td>37.9</td>\n",
       "      <td>1.0</td>\n",
       "    </tr>\n",
       "    <tr>\n",
       "      <th>2010-12-31 15:00:00</th>\n",
       "      <td>58.8</td>\n",
       "      <td>37.9</td>\n",
       "      <td>1.0</td>\n",
       "    </tr>\n",
       "    <tr>\n",
       "      <th>2010-12-31 16:00:00</th>\n",
       "      <td>58.8</td>\n",
       "      <td>37.9</td>\n",
       "      <td>1.0</td>\n",
       "    </tr>\n",
       "    <tr>\n",
       "      <th>2010-12-31 17:00:00</th>\n",
       "      <td>57.6</td>\n",
       "      <td>38.2</td>\n",
       "      <td>1.0</td>\n",
       "    </tr>\n",
       "    <tr>\n",
       "      <th>2010-12-31 18:00:00</th>\n",
       "      <td>54.3</td>\n",
       "      <td>37.8</td>\n",
       "      <td>1.0</td>\n",
       "    </tr>\n",
       "    <tr>\n",
       "      <th>2010-12-31 19:00:00</th>\n",
       "      <td>51.1</td>\n",
       "      <td>38.1</td>\n",
       "      <td>1.0</td>\n",
       "    </tr>\n",
       "    <tr>\n",
       "      <th>2010-12-31 20:00:00</th>\n",
       "      <td>49.0</td>\n",
       "      <td>37.9</td>\n",
       "      <td>1.0</td>\n",
       "    </tr>\n",
       "    <tr>\n",
       "      <th>2010-12-31 21:00:00</th>\n",
       "      <td>47.9</td>\n",
       "      <td>37.9</td>\n",
       "      <td>1.0</td>\n",
       "    </tr>\n",
       "    <tr>\n",
       "      <th>2010-12-31 22:00:00</th>\n",
       "      <td>46.9</td>\n",
       "      <td>37.9</td>\n",
       "      <td>1.0</td>\n",
       "    </tr>\n",
       "    <tr>\n",
       "      <th>2010-12-31 23:00:00</th>\n",
       "      <td>46.2</td>\n",
       "      <td>37.7</td>\n",
       "      <td>1.0</td>\n",
       "    </tr>\n",
       "  </tbody>\n",
       "</table>\n",
       "<p>8759 rows × 3 columns</p>\n",
       "</div>"
      ],
      "text/plain": [
       "                     Temperature  DewPoint  Pressure\n",
       "Date                                                \n",
       "2010-01-01 00:00:00         46.2      37.5       1.0\n",
       "2010-01-01 01:00:00         44.6      37.1       1.0\n",
       "2010-01-01 02:00:00         44.1      36.9       1.0\n",
       "2010-01-01 03:00:00         43.8      36.9       1.0\n",
       "2010-01-01 04:00:00         43.5      36.8       1.0\n",
       "2010-01-01 05:00:00         43.0      36.5       1.0\n",
       "2010-01-01 06:00:00         43.1      36.3       1.0\n",
       "2010-01-01 07:00:00         42.3      35.9       1.0\n",
       "2010-01-01 08:00:00         42.5      36.2       1.0\n",
       "2010-01-01 09:00:00         45.9      37.8       1.0\n",
       "2010-01-01 10:00:00         49.4      38.3       1.0\n",
       "2010-01-01 11:00:00         52.4      38.3       1.0\n",
       "2010-01-01 12:00:00         54.9      38.2       1.0\n",
       "2010-01-01 13:00:00         57.1      38.5       1.0\n",
       "2010-01-01 14:00:00         58.4      38.2       1.0\n",
       "2010-01-01 15:00:00         59.1      38.3       1.0\n",
       "2010-01-01 16:00:00         59.1      38.3       1.0\n",
       "2010-01-01 17:00:00         58.0      38.7       1.0\n",
       "2010-01-01 18:00:00         54.5      38.2       1.0\n",
       "2010-01-01 19:00:00         51.3      38.5       1.0\n",
       "2010-01-01 20:00:00         49.2      38.4       1.0\n",
       "2010-01-01 21:00:00         48.1      38.5       1.0\n",
       "2010-01-01 22:00:00         47.2      38.5       1.0\n",
       "2010-01-01 23:00:00         46.4      38.4       1.0\n",
       "2010-01-02 00:00:00         46.5      38.2       1.0\n",
       "2010-01-02 01:00:00         44.9      37.8       1.0\n",
       "2010-01-02 02:00:00         44.4      37.7       1.0\n",
       "2010-01-02 03:00:00         44.1      37.6       1.0\n",
       "2010-01-02 04:00:00         43.9      37.6       1.0\n",
       "2010-01-02 05:00:00         43.3      37.3       1.0\n",
       "...                          ...       ...       ...\n",
       "2010-12-30 18:00:00         54.1      37.9       1.0\n",
       "2010-12-30 19:00:00         50.9      38.2       1.0\n",
       "2010-12-30 20:00:00         49.0      38.0       1.0\n",
       "2010-12-30 21:00:00         47.9      38.1       1.0\n",
       "2010-12-30 22:00:00         46.9      38.0       1.0\n",
       "2010-12-30 23:00:00         46.1      37.9       1.0\n",
       "2010-12-31 00:00:00         46.1      37.5       1.0\n",
       "2010-12-31 01:00:00         44.5      37.2       1.0\n",
       "2010-12-31 02:00:00         44.1      37.0       1.0\n",
       "2010-12-31 03:00:00         43.7      36.9       1.0\n",
       "2010-12-31 04:00:00         43.5      36.8       1.0\n",
       "2010-12-31 05:00:00         42.9      36.5       1.0\n",
       "2010-12-31 06:00:00         43.0      36.1       1.0\n",
       "2010-12-31 07:00:00         42.2      35.7       1.0\n",
       "2010-12-31 08:00:00         42.5      36.1       1.0\n",
       "2010-12-31 09:00:00         46.0      37.7       1.0\n",
       "2010-12-31 10:00:00         49.4      38.0       1.0\n",
       "2010-12-31 11:00:00         52.4      38.0       1.0\n",
       "2010-12-31 12:00:00         54.7      37.9       1.0\n",
       "2010-12-31 13:00:00         56.9      38.2       1.0\n",
       "2010-12-31 14:00:00         58.2      37.9       1.0\n",
       "2010-12-31 15:00:00         58.8      37.9       1.0\n",
       "2010-12-31 16:00:00         58.8      37.9       1.0\n",
       "2010-12-31 17:00:00         57.6      38.2       1.0\n",
       "2010-12-31 18:00:00         54.3      37.8       1.0\n",
       "2010-12-31 19:00:00         51.1      38.1       1.0\n",
       "2010-12-31 20:00:00         49.0      37.9       1.0\n",
       "2010-12-31 21:00:00         47.9      37.9       1.0\n",
       "2010-12-31 22:00:00         46.9      37.9       1.0\n",
       "2010-12-31 23:00:00         46.2      37.7       1.0\n",
       "\n",
       "[8759 rows x 3 columns]"
      ]
     },
     "execution_count": 119,
     "metadata": {},
     "output_type": "execute_result"
    }
   ],
   "source": [
    "#re-indexing\n",
    "df.reindex()\n",
    "#df.reindec(evening_2_11,method='ffill')"
   ]
  },
  {
   "cell_type": "code",
   "execution_count": 115,
   "metadata": {},
   "outputs": [
    {
     "data": {
      "text/plain": [
       "pandas.core.indexes.datetimes.DatetimeIndex"
      ]
     },
     "execution_count": 115,
     "metadata": {},
     "output_type": "execute_result"
    }
   ],
   "source": [
    "days = ['2018-01-01','2018-01-02','2018-01-03']\n",
    "dates = pd.to_datetime(days)\n",
    "type(dates)"
   ]
  },
  {
   "cell_type": "code",
   "execution_count": 114,
   "metadata": {},
   "outputs": [
    {
     "data": {
      "text/plain": [
       "DatetimeIndex(['2018-01-01', '2018-01-02', '2018-01-03'], dtype='datetime64[ns]', freq=None)"
      ]
     },
     "execution_count": 114,
     "metadata": {},
     "output_type": "execute_result"
    }
   ],
   "source": [
    "dates"
   ]
  },
  {
   "cell_type": "code",
   "execution_count": null,
   "metadata": {},
   "outputs": [],
   "source": [
    "time_series =pd.Series(temperature_list, index=my_datetimes)"
   ]
  },
  {
   "cell_type": "code",
   "execution_count": 136,
   "metadata": {},
   "outputs": [
    {
     "data": {
      "text/html": [
       "<div>\n",
       "<style scoped>\n",
       "    .dataframe tbody tr th:only-of-type {\n",
       "        vertical-align: middle;\n",
       "    }\n",
       "\n",
       "    .dataframe tbody tr th {\n",
       "        vertical-align: top;\n",
       "    }\n",
       "\n",
       "    .dataframe thead th {\n",
       "        text-align: right;\n",
       "    }\n",
       "</style>\n",
       "<table border=\"1\" class=\"dataframe\">\n",
       "  <thead>\n",
       "    <tr style=\"text-align: right;\">\n",
       "      <th></th>\n",
       "      <th>Temperature</th>\n",
       "      <th>DewPoint</th>\n",
       "      <th>Pressure</th>\n",
       "    </tr>\n",
       "    <tr>\n",
       "      <th>Date</th>\n",
       "      <th></th>\n",
       "      <th></th>\n",
       "      <th></th>\n",
       "    </tr>\n",
       "  </thead>\n",
       "  <tbody>\n",
       "    <tr>\n",
       "      <th>2010-01-02</th>\n",
       "      <td>49.795833</td>\n",
       "      <td>38.370833</td>\n",
       "      <td>1.0</td>\n",
       "    </tr>\n",
       "    <tr>\n",
       "      <th>2010-01-03</th>\n",
       "      <td>49.900000</td>\n",
       "      <td>38.279167</td>\n",
       "      <td>1.0</td>\n",
       "    </tr>\n",
       "    <tr>\n",
       "      <th>2010-01-04</th>\n",
       "      <td>49.729167</td>\n",
       "      <td>38.008333</td>\n",
       "      <td>1.0</td>\n",
       "    </tr>\n",
       "    <tr>\n",
       "      <th>2010-01-05</th>\n",
       "      <td>49.841667</td>\n",
       "      <td>38.087500</td>\n",
       "      <td>1.0</td>\n",
       "    </tr>\n",
       "  </tbody>\n",
       "</table>\n",
       "</div>"
      ],
      "text/plain": [
       "            Temperature   DewPoint  Pressure\n",
       "Date                                        \n",
       "2010-01-02    49.795833  38.370833       1.0\n",
       "2010-01-03    49.900000  38.279167       1.0\n",
       "2010-01-04    49.729167  38.008333       1.0\n",
       "2010-01-05    49.841667  38.087500       1.0"
      ]
     },
     "execution_count": 136,
     "metadata": {},
     "output_type": "execute_result"
    }
   ],
   "source": [
    "df.resample('D').mean().iloc[1:5,:]"
   ]
  },
  {
   "cell_type": "code",
   "execution_count": 138,
   "metadata": {},
   "outputs": [
    {
     "data": {
      "text/plain": [
       "Temperature    95.3\n",
       "DewPoint       72.9\n",
       "Pressure        1.0\n",
       "dtype: float64"
      ]
     },
     "execution_count": 138,
     "metadata": {},
     "output_type": "execute_result"
    }
   ],
   "source": [
    "df.resample('W').max().max() #resample with 'T','H','D','B','W','M','Q','A'"
   ]
  },
  {
   "cell_type": "code",
   "execution_count": 144,
   "metadata": {},
   "outputs": [
    {
     "data": {
      "text/plain": [
       "Date\n",
       "2010-01-03    49.677778\n",
       "2010-01-17    49.383929\n",
       "2010-01-31    50.657143\n",
       "2010-02-14    52.087798\n",
       "2010-02-28    55.886607\n",
       "Name: Temperature, dtype: float64"
      ]
     },
     "execution_count": 144,
     "metadata": {},
     "output_type": "execute_result"
    }
   ],
   "source": [
    "(df.loc[:,'Temperature'].resample('2W').mean())[0:5]"
   ]
  },
  {
   "cell_type": "code",
   "execution_count": null,
   "metadata": {},
   "outputs": [],
   "source": [
    "#df['product'].str.contains('ware').sum()\n",
    "df['Date'].dt.hour\n",
    "df.columns = df.columns.str.strip()\n",
    "dallas = df['Destination Airport'].str.contains('DAL')"
   ]
  },
  {
   "cell_type": "code",
   "execution_count": 147,
   "metadata": {},
   "outputs": [],
   "source": [
    "dfa= pd.read_csv('./datasets/world_ind_pop_data.csv',index_col='Year')"
   ]
  },
  {
   "cell_type": "code",
   "execution_count": 149,
   "metadata": {},
   "outputs": [],
   "source": [
    "dfaa=dfa[dfa['CountryCode']=='ARB']"
   ]
  },
  {
   "cell_type": "code",
   "execution_count": 150,
   "metadata": {},
   "outputs": [
    {
     "data": {
      "text/html": [
       "<div>\n",
       "<style scoped>\n",
       "    .dataframe tbody tr th:only-of-type {\n",
       "        vertical-align: middle;\n",
       "    }\n",
       "\n",
       "    .dataframe tbody tr th {\n",
       "        vertical-align: top;\n",
       "    }\n",
       "\n",
       "    .dataframe thead th {\n",
       "        text-align: right;\n",
       "    }\n",
       "</style>\n",
       "<table border=\"1\" class=\"dataframe\">\n",
       "  <thead>\n",
       "    <tr style=\"text-align: right;\">\n",
       "      <th></th>\n",
       "      <th>CountryName</th>\n",
       "      <th>CountryCode</th>\n",
       "      <th>Total Population</th>\n",
       "      <th>Urban population (% of total)</th>\n",
       "    </tr>\n",
       "    <tr>\n",
       "      <th>Year</th>\n",
       "      <th></th>\n",
       "      <th></th>\n",
       "      <th></th>\n",
       "      <th></th>\n",
       "    </tr>\n",
       "  </thead>\n",
       "  <tbody>\n",
       "    <tr>\n",
       "      <th>1960</th>\n",
       "      <td>Arab World</td>\n",
       "      <td>ARB</td>\n",
       "      <td>92495902.0</td>\n",
       "      <td>31.285384</td>\n",
       "    </tr>\n",
       "    <tr>\n",
       "      <th>1961</th>\n",
       "      <td>Arab World</td>\n",
       "      <td>ARB</td>\n",
       "      <td>95041593.0</td>\n",
       "      <td>32.029076</td>\n",
       "    </tr>\n",
       "    <tr>\n",
       "      <th>1962</th>\n",
       "      <td>Arab World</td>\n",
       "      <td>ARB</td>\n",
       "      <td>97691498.0</td>\n",
       "      <td>32.780323</td>\n",
       "    </tr>\n",
       "    <tr>\n",
       "      <th>1963</th>\n",
       "      <td>Arab World</td>\n",
       "      <td>ARB</td>\n",
       "      <td>100438281.0</td>\n",
       "      <td>33.555881</td>\n",
       "    </tr>\n",
       "    <tr>\n",
       "      <th>1964</th>\n",
       "      <td>Arab World</td>\n",
       "      <td>ARB</td>\n",
       "      <td>103273929.0</td>\n",
       "      <td>34.358432</td>\n",
       "    </tr>\n",
       "  </tbody>\n",
       "</table>\n",
       "</div>"
      ],
      "text/plain": [
       "     CountryName CountryCode  Total Population  Urban population (% of total)\n",
       "Year                                                                         \n",
       "1960  Arab World         ARB        92495902.0                      31.285384\n",
       "1961  Arab World         ARB        95041593.0                      32.029076\n",
       "1962  Arab World         ARB        97691498.0                      32.780323\n",
       "1963  Arab World         ARB       100438281.0                      33.555881\n",
       "1964  Arab World         ARB       103273929.0                      34.358432"
      ]
     },
     "execution_count": 150,
     "metadata": {},
     "output_type": "execute_result"
    }
   ],
   "source": [
    "dfaa.head()"
   ]
  },
  {
   "cell_type": "code",
   "execution_count": 161,
   "metadata": {},
   "outputs": [
    {
     "data": {
      "image/png": "[encoded data removed]",
      "text/plain": [
       "<Figure size 432x288 with 1 Axes>"
      ]
     },
     "metadata": {
      "needs_background": "light"
     },
     "output_type": "display_data"
    },
    {
     "data": {
      "image/png": "[encoded data removed]",
      "text/plain": [
       "<Figure size 432x288 with 2 Axes>"
      ]
     },
     "metadata": {
      "needs_background": "light"
     },
     "output_type": "display_data"
    }
   ],
   "source": [
    "dfaa['Total Population'].plot(style='k.-')\n",
    "plt.ylabel('Population')\n",
    "plt.title('Population over Time')\n",
    "plt.show()\n",
    "dfaa.plot(subplots=True)\n",
    "plt.show()"
   ]
  },
  {
   "cell_type": "code",
   "execution_count": null,
   "metadata": {},
   "outputs": [],
   "source": [
    "# Extract the maximum temperature in August 2010 from df_climate: august_max\n",
    "august_max = df_climate.loc['2010-Aug','Temperature'].max()\n",
    "print(august_max)\n",
    "\n",
    "# Resample August 2011 temps in df_clean by day & aggregate the max value: august_2011\n",
    "august_2011 = df_clean.loc['2011-Aug','dry_bulb_faren'].resample('D').max()\n",
    "\n",
    "\n",
    "# Filter for days in august_2011 where the value exceeds august_max: august_2011_high\n",
    "\n",
    "august_2011_high = august_2011.loc[august_2011>august_max]\n",
    "\n",
    "# Construct a CDF of august_2011_high\n",
    "august_2011_high.plot(kind='hist',bins=25,cumulative=True,normed=True)\n",
    "\n",
    "# Display the plot\n",
    "plt.show()"
   ]
  }
 ],
 "metadata": {
  "kernelspec": {
   "display_name": "Python 3",
   "language": "python",
   "name": "python3"
  },
  "language_info": {
   "codemirror_mode": {
    "name": "ipython",
    "version": 3
   },
   "file_extension": ".py",
   "mimetype": "text/x-python",
   "name": "python",
   "nbconvert_exporter": "python",
   "pygments_lexer": "ipython3",
   "version": "3.7.0"
  }
 },
 "nbformat": 4,
 "nbformat_minor": 2
}
