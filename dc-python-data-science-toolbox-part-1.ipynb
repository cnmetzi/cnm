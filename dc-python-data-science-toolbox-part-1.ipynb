{
 "cells": [
  {
   "cell_type": "markdown",
   "metadata": {},
   "source": [
    "## Define Functions in Python\n",
    "#### Format for defining function:  \n",
    "def \"name of function\"(\"parameter 1\",\"parameter n\"): \\#called the function header  \n",
    "&nbsp;&nbsp;&nbsp;&nbsp;&nbsp;&nbsp;\"\"\" \"description of what the function does\" \"\"\" \\#called a docstring, in between triple double quotes  \n",
    "&nbsp;&nbsp;&nbsp;&nbsp;&nbsp;&nbsp;\"code to execute #called the function body, must be indented, has a local scope only, outside the function is the global scope which would have 2nd priority  \n",
    "&nbsp;&nbsp;&nbsp;&nbsp;&nbsp;&nbsp;global new_val to change the value at global scope  \n",
    "&nbsp;&nbsp;&nbsp;&nbsp;&nbsp;&nbsp;return(\"variable 1\",\"variable n\") \\#what the function should return, multiple values need to be defined as a tuple, single value does not need to be a tuple\n",
    "  \n",
    "#### Format for calling function:  \n",
    "\"name of function\"(\"argument for parameter 1\",\"argument for parameter n\")\n",
    "\n",
    "#### Examples:  \n"
   ]
  },
  {
   "cell_type": "code",
   "execution_count": 16,
   "metadata": {
    "collapsed": false
   },
   "outputs": [
    {
     "name": "stdout",
     "output_type": "stream",
     "text": [
      "16\n"
     ]
    }
   ],
   "source": [
    "def raise_first_to_power(value1,value2):\n",
    "    \"\"\"Raise value1 to the power of value2.\"\"\"\n",
    "    new_value = value1 ** value2\n",
    "    return new_value\n",
    "\n",
    "print(raise_first_to_power(2,4))"
   ]
  },
  {
   "cell_type": "code",
   "execution_count": 17,
   "metadata": {
    "collapsed": false
   },
   "outputs": [
    {
     "name": "stdout",
     "output_type": "stream",
     "text": [
      "32\n",
      "25\n"
     ]
    }
   ],
   "source": [
    "def raise_both_to_power(value1,value2):\n",
    "    \"\"\"Raise value1 to the power of value2 and vice versa.\"\"\"\n",
    "    new_value1 = value1 ** value2\n",
    "    new_value2 = value2 ** value1\n",
    "    return (new_value1,new_value2)\n",
    "\n",
    "print(raise_both_to_power(2,5)[0])\n",
    "print(raise_both_to_power(2,5)[1])"
   ]
  },
  {
   "cell_type": "code",
   "execution_count": null,
   "metadata": {
    "collapsed": true
   },
   "outputs": [],
   "source": []
  },
  {
   "cell_type": "code",
   "execution_count": 8,
   "metadata": {
    "collapsed": false
   },
   "outputs": [
    {
     "name": "stdout",
     "output_type": "stream",
     "text": [
      "<class 'tuple'>\n",
      "6\n",
      "4\n"
     ]
    }
   ],
   "source": [
    "#tuples- multiple values, immutable, constructed using parantheses\n",
    "even_nums = (2,4,6) #define tuple\n",
    "print(type(even_nums))\n",
    "a,b,c =even_nums #unpack tuples and assign to indiviudal variables\n",
    "print(c)\n",
    "print(even_nums[1])#access indiviudal tuple elements"
   ]
  },
  {
   "cell_type": "code",
   "execution_count": null,
   "metadata": {
    "collapsed": true
   },
   "outputs": [],
   "source": [
    "# Import pandas\n",
    "import pandas as pd\n",
    "\n",
    "# Import Twitter data as DataFrame: df\n",
    "df = pd.read_csv('tweets.csv')\n",
    "\n",
    "# Initialize an empty dictionary: langs_count\n",
    "langs_count = {}\n",
    "\n",
    "# Extract column from DataFrame: col\n",
    "col = df['lang']\n",
    "\n",
    "# Iterate over lang column in DataFrame\n",
    "for entry in col:\n",
    "\n",
    "    # If the language is in langs_count, add 1\n",
    "    if entry in langs_count.keys():\n",
    "        langs_count[entry] +=1\n",
    "    # Else add the language to langs_count, set the value to 1\n",
    "    else:\n",
    "        langs_count[entry] = 1\n",
    "\n",
    "# Print the populated dictionary\n",
    "print(langs_count)\n",
    "\n",
    "# Define count_entries()\n",
    "def count_entries(df,col_name):\n",
    "    \"\"\"Return a dictionary with counts of \n",
    "    occurrences as value for each key.\"\"\"\n",
    "\n",
    "    # Initialize an empty dictionary: langs_count\n",
    "    langs_count = {}\n",
    "    \n",
    "    # Extract column from DataFrame: col\n",
    "    col = df[col_name]\n",
    "    \n",
    "    # Iterate over lang column in DataFrame\n",
    "    for entry in col:\n",
    "\n",
    "        # If the language is in langs_count, add 1\n",
    "        if entry in langs_count.keys():\n",
    "            langs_count[entry] +=1\n",
    "        # Else add the language to langs_count, set the value to 1\n",
    "        else:\n",
    "            langs_count[entry] =1\n",
    "\n",
    "    # Return the langs_count dictionary\n",
    "    return langs_count\n"
   ]
  }
 ],
 "metadata": {
  "kernelspec": {
   "display_name": "Python 3",
   "language": "python",
   "name": "python3"
  },
  "language_info": {
   "codemirror_mode": {
    "name": "ipython",
    "version": 3
   },
   "file_extension": ".py",
   "mimetype": "text/x-python",
   "name": "python",
   "nbconvert_exporter": "python",
   "pygments_lexer": "ipython3",
   "version": "3.6.0"
  }
 },
 "nbformat": 4,
 "nbformat_minor": 2
}
